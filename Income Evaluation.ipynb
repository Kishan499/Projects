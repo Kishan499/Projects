{
 "cells": [
  {
   "cell_type": "markdown",
   "id": "ed3b5843",
   "metadata": {},
   "source": [
    "# Income Classification Model"
   ]
  },
  {
   "cell_type": "code",
   "execution_count": null,
   "id": "84b56e96",
   "metadata": {},
   "outputs": [],
   "source": []
  },
  {
   "cell_type": "markdown",
   "id": "19c24ba5",
   "metadata": {},
   "source": [
    "# Importing Libraries "
   ]
  },
  {
   "cell_type": "code",
   "execution_count": 1,
   "id": "1643d8f9",
   "metadata": {},
   "outputs": [],
   "source": [
    "import pandas as pd\n",
    "pd.set_option('display.max_rows', 150)\n",
    "pd.set_option('display.max_columns', 150)\n",
    "\n",
    "import numpy as np\n",
    "import matplotlib.pyplot as plt\n",
    "import seaborn as sns\n",
    "\n",
    "import warnings\n",
    "warnings.filterwarnings('ignore')"
   ]
  },
  {
   "cell_type": "code",
   "execution_count": 2,
   "id": "d1844f3e",
   "metadata": {},
   "outputs": [],
   "source": [
    "df = pd.read_csv('Data_inc.csv')"
   ]
  },
  {
   "cell_type": "code",
   "execution_count": 3,
   "id": "57e56c87",
   "metadata": {},
   "outputs": [
    {
     "data": {
      "text/html": [
       "<div>\n",
       "<style scoped>\n",
       "    .dataframe tbody tr th:only-of-type {\n",
       "        vertical-align: middle;\n",
       "    }\n",
       "\n",
       "    .dataframe tbody tr th {\n",
       "        vertical-align: top;\n",
       "    }\n",
       "\n",
       "    .dataframe thead th {\n",
       "        text-align: right;\n",
       "    }\n",
       "</style>\n",
       "<table border=\"1\" class=\"dataframe\">\n",
       "  <thead>\n",
       "    <tr style=\"text-align: right;\">\n",
       "      <th></th>\n",
       "      <th>Age</th>\n",
       "      <th>Profession Class</th>\n",
       "      <th>Final_census</th>\n",
       "      <th>Education</th>\n",
       "      <th>Education-num</th>\n",
       "      <th>marital-status</th>\n",
       "      <th>occupation</th>\n",
       "      <th>relationship</th>\n",
       "      <th>race</th>\n",
       "      <th>Gender</th>\n",
       "      <th>capital-gain</th>\n",
       "      <th>capital-loss</th>\n",
       "      <th>hours-per-week</th>\n",
       "      <th>country</th>\n",
       "      <th>income</th>\n",
       "      <th>Unnamed: 15</th>\n",
       "    </tr>\n",
       "  </thead>\n",
       "  <tbody>\n",
       "    <tr>\n",
       "      <th>0</th>\n",
       "      <td>39</td>\n",
       "      <td>State-gov</td>\n",
       "      <td>77516</td>\n",
       "      <td>Bachelors</td>\n",
       "      <td>13</td>\n",
       "      <td>Never-married</td>\n",
       "      <td>Adm-clerical</td>\n",
       "      <td>Not-in-family</td>\n",
       "      <td>White</td>\n",
       "      <td>Male</td>\n",
       "      <td>2174</td>\n",
       "      <td>0</td>\n",
       "      <td>40</td>\n",
       "      <td>United-States</td>\n",
       "      <td>&lt;=50K</td>\n",
       "      <td>NaN</td>\n",
       "    </tr>\n",
       "    <tr>\n",
       "      <th>1</th>\n",
       "      <td>50</td>\n",
       "      <td>Self-emp-not-inc</td>\n",
       "      <td>83311</td>\n",
       "      <td>Bachelors</td>\n",
       "      <td>13</td>\n",
       "      <td>Married-civ-spouse</td>\n",
       "      <td>Exec-managerial</td>\n",
       "      <td>Husband</td>\n",
       "      <td>White</td>\n",
       "      <td>Male</td>\n",
       "      <td>0</td>\n",
       "      <td>0</td>\n",
       "      <td>13</td>\n",
       "      <td>United-States</td>\n",
       "      <td>&lt;=50K</td>\n",
       "      <td>NaN</td>\n",
       "    </tr>\n",
       "    <tr>\n",
       "      <th>2</th>\n",
       "      <td>38</td>\n",
       "      <td>Private</td>\n",
       "      <td>215646</td>\n",
       "      <td>HS-grad</td>\n",
       "      <td>9</td>\n",
       "      <td>Divorced</td>\n",
       "      <td>Handlers-cleaners</td>\n",
       "      <td>Not-in-family</td>\n",
       "      <td>White</td>\n",
       "      <td>Male</td>\n",
       "      <td>0</td>\n",
       "      <td>0</td>\n",
       "      <td>40</td>\n",
       "      <td>United-States</td>\n",
       "      <td>&lt;=50K</td>\n",
       "      <td>NaN</td>\n",
       "    </tr>\n",
       "    <tr>\n",
       "      <th>3</th>\n",
       "      <td>53</td>\n",
       "      <td>Private</td>\n",
       "      <td>234721</td>\n",
       "      <td>11th</td>\n",
       "      <td>7</td>\n",
       "      <td>Married-civ-spouse</td>\n",
       "      <td>Handlers-cleaners</td>\n",
       "      <td>Husband</td>\n",
       "      <td>Black</td>\n",
       "      <td>Male</td>\n",
       "      <td>0</td>\n",
       "      <td>0</td>\n",
       "      <td>40</td>\n",
       "      <td>United-States</td>\n",
       "      <td>&lt;=50K</td>\n",
       "      <td>NaN</td>\n",
       "    </tr>\n",
       "    <tr>\n",
       "      <th>4</th>\n",
       "      <td>28</td>\n",
       "      <td>Private</td>\n",
       "      <td>338409</td>\n",
       "      <td>Bachelors</td>\n",
       "      <td>13</td>\n",
       "      <td>Married-civ-spouse</td>\n",
       "      <td>Prof-specialty</td>\n",
       "      <td>Wife</td>\n",
       "      <td>Black</td>\n",
       "      <td>Female</td>\n",
       "      <td>0</td>\n",
       "      <td>0</td>\n",
       "      <td>40</td>\n",
       "      <td>Cuba</td>\n",
       "      <td>&lt;=50K</td>\n",
       "      <td>NaN</td>\n",
       "    </tr>\n",
       "  </tbody>\n",
       "</table>\n",
       "</div>"
      ],
      "text/plain": [
       "   Age   Profession Class  Final_census   Education   Education-num  \\\n",
       "0   39          State-gov         77516   Bachelors              13   \n",
       "1   50   Self-emp-not-inc         83311   Bachelors              13   \n",
       "2   38            Private        215646     HS-grad               9   \n",
       "3   53            Private        234721        11th               7   \n",
       "4   28            Private        338409   Bachelors              13   \n",
       "\n",
       "        marital-status          occupation    relationship    race   Gender  \\\n",
       "0        Never-married        Adm-clerical   Not-in-family   White     Male   \n",
       "1   Married-civ-spouse     Exec-managerial         Husband   White     Male   \n",
       "2             Divorced   Handlers-cleaners   Not-in-family   White     Male   \n",
       "3   Married-civ-spouse   Handlers-cleaners         Husband   Black     Male   \n",
       "4   Married-civ-spouse      Prof-specialty            Wife   Black   Female   \n",
       "\n",
       "    capital-gain   capital-loss   hours-per-week         country  income  \\\n",
       "0           2174              0               40   United-States   <=50K   \n",
       "1              0              0               13   United-States   <=50K   \n",
       "2              0              0               40   United-States   <=50K   \n",
       "3              0              0               40   United-States   <=50K   \n",
       "4              0              0               40            Cuba   <=50K   \n",
       "\n",
       "   Unnamed: 15  \n",
       "0          NaN  \n",
       "1          NaN  \n",
       "2          NaN  \n",
       "3          NaN  \n",
       "4          NaN  "
      ]
     },
     "execution_count": 3,
     "metadata": {},
     "output_type": "execute_result"
    }
   ],
   "source": [
    "df.head()"
   ]
  },
  {
   "cell_type": "markdown",
   "id": "1e96ba53",
   "metadata": {},
   "source": [
    " Dropping unknown column"
   ]
  },
  {
   "cell_type": "code",
   "execution_count": 3,
   "id": "f8efff31",
   "metadata": {},
   "outputs": [],
   "source": [
    "df.drop(['Unnamed: 15'],axis=1,inplace=True)"
   ]
  },
  {
   "cell_type": "code",
   "execution_count": 5,
   "id": "7cb02848",
   "metadata": {},
   "outputs": [
    {
     "data": {
      "text/html": [
       "<div>\n",
       "<style scoped>\n",
       "    .dataframe tbody tr th:only-of-type {\n",
       "        vertical-align: middle;\n",
       "    }\n",
       "\n",
       "    .dataframe tbody tr th {\n",
       "        vertical-align: top;\n",
       "    }\n",
       "\n",
       "    .dataframe thead th {\n",
       "        text-align: right;\n",
       "    }\n",
       "</style>\n",
       "<table border=\"1\" class=\"dataframe\">\n",
       "  <thead>\n",
       "    <tr style=\"text-align: right;\">\n",
       "      <th></th>\n",
       "      <th>Age</th>\n",
       "      <th>Profession Class</th>\n",
       "      <th>Final_census</th>\n",
       "      <th>Education</th>\n",
       "      <th>Education-num</th>\n",
       "      <th>marital-status</th>\n",
       "      <th>occupation</th>\n",
       "      <th>relationship</th>\n",
       "      <th>race</th>\n",
       "      <th>Gender</th>\n",
       "      <th>capital-gain</th>\n",
       "      <th>capital-loss</th>\n",
       "      <th>hours-per-week</th>\n",
       "      <th>country</th>\n",
       "      <th>income</th>\n",
       "    </tr>\n",
       "  </thead>\n",
       "  <tbody>\n",
       "    <tr>\n",
       "      <th>0</th>\n",
       "      <td>39</td>\n",
       "      <td>State-gov</td>\n",
       "      <td>77516</td>\n",
       "      <td>Bachelors</td>\n",
       "      <td>13</td>\n",
       "      <td>Never-married</td>\n",
       "      <td>Adm-clerical</td>\n",
       "      <td>Not-in-family</td>\n",
       "      <td>White</td>\n",
       "      <td>Male</td>\n",
       "      <td>2174</td>\n",
       "      <td>0</td>\n",
       "      <td>40</td>\n",
       "      <td>United-States</td>\n",
       "      <td>&lt;=50K</td>\n",
       "    </tr>\n",
       "    <tr>\n",
       "      <th>1</th>\n",
       "      <td>50</td>\n",
       "      <td>Self-emp-not-inc</td>\n",
       "      <td>83311</td>\n",
       "      <td>Bachelors</td>\n",
       "      <td>13</td>\n",
       "      <td>Married-civ-spouse</td>\n",
       "      <td>Exec-managerial</td>\n",
       "      <td>Husband</td>\n",
       "      <td>White</td>\n",
       "      <td>Male</td>\n",
       "      <td>0</td>\n",
       "      <td>0</td>\n",
       "      <td>13</td>\n",
       "      <td>United-States</td>\n",
       "      <td>&lt;=50K</td>\n",
       "    </tr>\n",
       "    <tr>\n",
       "      <th>2</th>\n",
       "      <td>38</td>\n",
       "      <td>Private</td>\n",
       "      <td>215646</td>\n",
       "      <td>HS-grad</td>\n",
       "      <td>9</td>\n",
       "      <td>Divorced</td>\n",
       "      <td>Handlers-cleaners</td>\n",
       "      <td>Not-in-family</td>\n",
       "      <td>White</td>\n",
       "      <td>Male</td>\n",
       "      <td>0</td>\n",
       "      <td>0</td>\n",
       "      <td>40</td>\n",
       "      <td>United-States</td>\n",
       "      <td>&lt;=50K</td>\n",
       "    </tr>\n",
       "    <tr>\n",
       "      <th>3</th>\n",
       "      <td>53</td>\n",
       "      <td>Private</td>\n",
       "      <td>234721</td>\n",
       "      <td>11th</td>\n",
       "      <td>7</td>\n",
       "      <td>Married-civ-spouse</td>\n",
       "      <td>Handlers-cleaners</td>\n",
       "      <td>Husband</td>\n",
       "      <td>Black</td>\n",
       "      <td>Male</td>\n",
       "      <td>0</td>\n",
       "      <td>0</td>\n",
       "      <td>40</td>\n",
       "      <td>United-States</td>\n",
       "      <td>&lt;=50K</td>\n",
       "    </tr>\n",
       "    <tr>\n",
       "      <th>4</th>\n",
       "      <td>28</td>\n",
       "      <td>Private</td>\n",
       "      <td>338409</td>\n",
       "      <td>Bachelors</td>\n",
       "      <td>13</td>\n",
       "      <td>Married-civ-spouse</td>\n",
       "      <td>Prof-specialty</td>\n",
       "      <td>Wife</td>\n",
       "      <td>Black</td>\n",
       "      <td>Female</td>\n",
       "      <td>0</td>\n",
       "      <td>0</td>\n",
       "      <td>40</td>\n",
       "      <td>Cuba</td>\n",
       "      <td>&lt;=50K</td>\n",
       "    </tr>\n",
       "  </tbody>\n",
       "</table>\n",
       "</div>"
      ],
      "text/plain": [
       "   Age   Profession Class  Final_census   Education   Education-num  \\\n",
       "0   39          State-gov         77516   Bachelors              13   \n",
       "1   50   Self-emp-not-inc         83311   Bachelors              13   \n",
       "2   38            Private        215646     HS-grad               9   \n",
       "3   53            Private        234721        11th               7   \n",
       "4   28            Private        338409   Bachelors              13   \n",
       "\n",
       "        marital-status          occupation    relationship    race   Gender  \\\n",
       "0        Never-married        Adm-clerical   Not-in-family   White     Male   \n",
       "1   Married-civ-spouse     Exec-managerial         Husband   White     Male   \n",
       "2             Divorced   Handlers-cleaners   Not-in-family   White     Male   \n",
       "3   Married-civ-spouse   Handlers-cleaners         Husband   Black     Male   \n",
       "4   Married-civ-spouse      Prof-specialty            Wife   Black   Female   \n",
       "\n",
       "    capital-gain   capital-loss   hours-per-week         country  income  \n",
       "0           2174              0               40   United-States   <=50K  \n",
       "1              0              0               13   United-States   <=50K  \n",
       "2              0              0               40   United-States   <=50K  \n",
       "3              0              0               40   United-States   <=50K  \n",
       "4              0              0               40            Cuba   <=50K  "
      ]
     },
     "execution_count": 5,
     "metadata": {},
     "output_type": "execute_result"
    }
   ],
   "source": [
    "df.head()"
   ]
  },
  {
   "cell_type": "code",
   "execution_count": 7,
   "id": "d579ae8b",
   "metadata": {},
   "outputs": [],
   "source": [
    "columns=df.columns"
   ]
  },
  {
   "cell_type": "code",
   "execution_count": 8,
   "id": "bdc179bd",
   "metadata": {},
   "outputs": [
    {
     "data": {
      "text/plain": [
       "Index(['Age', 'Profession Class', 'Final_census', ' Education',\n",
       "       ' Education-num', ' marital-status', ' occupation', ' relationship',\n",
       "       ' race', 'Gender', ' capital-gain', ' capital-loss', ' hours-per-week',\n",
       "       ' country', ' income'],\n",
       "      dtype='object')"
      ]
     },
     "execution_count": 8,
     "metadata": {},
     "output_type": "execute_result"
    }
   ],
   "source": [
    "columns"
   ]
  },
  {
   "cell_type": "code",
   "execution_count": 10,
   "id": "717314dd",
   "metadata": {},
   "outputs": [
    {
     "name": "stdout",
     "output_type": "stream",
     "text": [
      "Age:[39 50 38 53 28 37 49 52 31 42 30 23 32 40 34 25 43 54 35 59 56 19 20 45\n",
      " 22 48 21 24 57 44 41 29 18 47 46 36 79 27 67 33 76 17 55 61 70 64 71 68\n",
      " 66 51 58 26 60 90 75 65 77 62 63 80 72 74 69 73 81 78 88 82 83 84 85 86\n",
      " 87]\n",
      "Profession Class:[' State-gov' ' Self-emp-not-inc' ' Private' ' Federal-gov' ' Local-gov'\n",
      " ' ?' ' Self-emp-inc' ' Without-pay' ' Never-worked']\n",
      "Final_census:[ 77516  83311 215646 ...  34066  84661 257302]\n",
      " Education:[' Bachelors' ' HS-grad' ' 11th' ' Masters' ' 9th' ' Some-college'\n",
      " ' Assoc-acdm' ' Assoc-voc' ' 7th-8th' ' Doctorate' ' Prof-school'\n",
      " ' 5th-6th' ' 10th' ' 1st-4th' ' Preschool' ' 12th']\n",
      " Education-num:[13  9  7 14  5 10 12 11  4 16 15  3  6  2  1  8]\n",
      " marital-status:[' Never-married' ' Married-civ-spouse' ' Divorced'\n",
      " ' Married-spouse-absent' ' Separated' ' Married-AF-spouse' ' Widowed']\n",
      " occupation:[' Adm-clerical' ' Exec-managerial' ' Handlers-cleaners' ' Prof-specialty'\n",
      " ' Other-service' ' Sales' ' Craft-repair' ' Transport-moving'\n",
      " ' Farming-fishing' ' Machine-op-inspct' ' Tech-support' ' ?'\n",
      " ' Protective-serv' ' Armed-Forces' ' Priv-house-serv']\n",
      " relationship:[' Not-in-family' ' Husband' ' Wife' ' Own-child' ' Unmarried'\n",
      " ' Other-relative']\n",
      " race:[' White' ' Black' ' Asian-Pac-Islander' ' Amer-Indian-Eskimo' ' Other']\n",
      "Gender:[' Male' ' Female']\n",
      " capital-gain:[ 2174     0 14084  5178  5013  2407 14344 15024  7688 34095  4064  4386\n",
      "  7298  1409  3674  1055  3464  2050  2176   594 20051  6849  4101  1111\n",
      "  8614  3411  2597 25236  4650  9386  2463  3103 10605  2964  3325  2580\n",
      "  3471  4865 99999  6514  1471  2329  2105  2885 25124 10520  2202  2961\n",
      " 27828  6767  2228  1506 13550  2635  5556  4787  3781  3137  3818  3942\n",
      "   914   401  2829  2977  4934  2062  2354  5455 15020  1424  3273 22040\n",
      "  4416  3908 10566   991  4931  1086  7430  6497   114  7896  2346  3418\n",
      "  3432  2907  1151  2414  2290 15831 41310  4508  2538  3456  6418  1848\n",
      "  3887  5721  9562  1455  2036  1831 11678  2936  2993  7443  6360  1797\n",
      "  1173  4687  6723  2009  6097  2653  1639 18481  7978  2387  5060]\n",
      " capital-loss:[   0 2042 1408 1902 1573 1887 1719 1762 1564 2179 1816 1980 1977 1876\n",
      " 1340 2206 1741 1485 2339 2415 1380 1721 2051 2377 1669 2352 1672  653\n",
      " 2392 1504 2001 1590 1651 1628 1848 1740 2002 1579 2258 1602  419 2547\n",
      " 2174 2205 1726 2444 1138 2238  625  213 1539  880 1668 1092 1594 3004\n",
      " 2231 1844  810 2824 2559 2057 1974  974 2149 1825 1735 1258 2129 2603\n",
      " 2282  323 4356 2246 1617 1648 2489 3770 1755 3683 2267 2080 2457  155\n",
      " 3900 2201 1944 2467 2163 2754 2472 1411]\n",
      " hours-per-week:[40 13 16 45 50 80 30 35 60 20 52 44 15 25 38 43 55 48 58 32 70  2 22 56\n",
      " 41 28 36 24 46 42 12 65  1 10 34 75 98 33 54  8  6 64 19 18 72  5  9 47\n",
      " 37 21 26 14  4 59  7 99 53 39 62 57 78 90 66 11 49 84  3 17 68 27 85 31\n",
      " 51 77 63 23 87 88 73 89 97 94 29 96 67 82 86 91 81 76 92 61 74 95]\n",
      " country:[' United-States' ' Cuba' ' Jamaica' ' India' ' ?' ' Mexico' ' South'\n",
      " ' Puerto-Rico' ' Honduras' ' England' ' Canada' ' Germany' ' Iran'\n",
      " ' Philippines' ' Italy' ' Poland' ' Columbia' ' Cambodia' ' Thailand'\n",
      " ' Ecuador' ' Laos' ' Taiwan' ' Haiti' ' Portugal' ' Dominican-Republic'\n",
      " ' El-Salvador' ' France' ' Guatemala' ' China' ' Japan' ' Yugoslavia'\n",
      " ' Peru' ' Outlying-US(Guam-USVI-etc)' ' Scotland' ' Trinadad&Tobago'\n",
      " ' Greece' ' Nicaragua' ' Vietnam' ' Hong' ' Ireland' ' Hungary'\n",
      " ' Holand-Netherlands']\n",
      " income:[' <=50K' ' >50K']\n"
     ]
    }
   ],
   "source": [
    "for i in columns:\n",
    "    print(f'{i}:{df[i].unique()}')"
   ]
  },
  {
   "cell_type": "markdown",
   "id": "ce28cd57",
   "metadata": {},
   "source": [
    "We have values which is indicated as \" ?\" in the following columns which needs to be imputed\n",
    "['Profession Class', 'occupation', 'country']\n"
   ]
  },
  {
   "cell_type": "code",
   "execution_count": 4,
   "id": "1bddf2c0",
   "metadata": {},
   "outputs": [],
   "source": [
    "cols = ['Profession Class',' occupation',' country']\n",
    "\n",
    "for i in cols:\n",
    "    df[i].replace(' ?',df[i].mode()[0],inplace=True)"
   ]
  },
  {
   "cell_type": "code",
   "execution_count": 15,
   "id": "d2339b92",
   "metadata": {},
   "outputs": [
    {
     "data": {
      "text/plain": [
       " Private             24532\n",
       " Self-emp-not-inc     2541\n",
       " Local-gov            2093\n",
       " State-gov            1298\n",
       " Self-emp-inc         1116\n",
       " Federal-gov           960\n",
       " Without-pay            14\n",
       " Never-worked            7\n",
       "Name: Profession Class, dtype: int64"
      ]
     },
     "execution_count": 15,
     "metadata": {},
     "output_type": "execute_result"
    }
   ],
   "source": [
    "df['Profession Class'].value_counts()"
   ]
  },
  {
   "cell_type": "code",
   "execution_count": 16,
   "id": "9900829d",
   "metadata": {},
   "outputs": [
    {
     "data": {
      "text/plain": [
       " Prof-specialty       5983\n",
       " Craft-repair         4099\n",
       " Exec-managerial      4066\n",
       " Adm-clerical         3770\n",
       " Sales                3650\n",
       " Other-service        3295\n",
       " Machine-op-inspct    2002\n",
       " Transport-moving     1597\n",
       " Handlers-cleaners    1370\n",
       " Farming-fishing       994\n",
       " Tech-support          928\n",
       " Protective-serv       649\n",
       " Priv-house-serv       149\n",
       " Armed-Forces            9\n",
       "Name:  occupation, dtype: int64"
      ]
     },
     "execution_count": 16,
     "metadata": {},
     "output_type": "execute_result"
    }
   ],
   "source": [
    "df[' occupation'].value_counts()"
   ]
  },
  {
   "cell_type": "code",
   "execution_count": 17,
   "id": "91cdb2b3",
   "metadata": {},
   "outputs": [
    {
     "data": {
      "text/plain": [
       " United-States                 29753\n",
       " Mexico                          643\n",
       " Philippines                     198\n",
       " Germany                         137\n",
       " Canada                          121\n",
       " Puerto-Rico                     114\n",
       " El-Salvador                     106\n",
       " India                           100\n",
       " Cuba                             95\n",
       " England                          90\n",
       " Jamaica                          81\n",
       " South                            80\n",
       " China                            75\n",
       " Italy                            73\n",
       " Dominican-Republic               70\n",
       " Vietnam                          67\n",
       " Guatemala                        64\n",
       " Japan                            62\n",
       " Poland                           60\n",
       " Columbia                         59\n",
       " Taiwan                           51\n",
       " Haiti                            44\n",
       " Iran                             43\n",
       " Portugal                         37\n",
       " Nicaragua                        34\n",
       " Peru                             31\n",
       " France                           29\n",
       " Greece                           29\n",
       " Ecuador                          28\n",
       " Ireland                          24\n",
       " Hong                             20\n",
       " Cambodia                         19\n",
       " Trinadad&Tobago                  19\n",
       " Laos                             18\n",
       " Thailand                         18\n",
       " Yugoslavia                       16\n",
       " Outlying-US(Guam-USVI-etc)       14\n",
       " Honduras                         13\n",
       " Hungary                          13\n",
       " Scotland                         12\n",
       " Holand-Netherlands                1\n",
       "Name:  country, dtype: int64"
      ]
     },
     "execution_count": 17,
     "metadata": {},
     "output_type": "execute_result"
    }
   ],
   "source": [
    "df[' country'].value_counts()"
   ]
  },
  {
   "cell_type": "code",
   "execution_count": 18,
   "id": "606ee811",
   "metadata": {},
   "outputs": [
    {
     "name": "stdout",
     "output_type": "stream",
     "text": [
      "<class 'pandas.core.frame.DataFrame'>\n",
      "RangeIndex: 32561 entries, 0 to 32560\n",
      "Data columns (total 15 columns):\n",
      " #   Column            Non-Null Count  Dtype \n",
      "---  ------            --------------  ----- \n",
      " 0   Age               32561 non-null  int64 \n",
      " 1   Profession Class  32561 non-null  object\n",
      " 2   Final_census      32561 non-null  int64 \n",
      " 3    Education        32561 non-null  object\n",
      " 4    Education-num    32561 non-null  int64 \n",
      " 5    marital-status   32561 non-null  object\n",
      " 6    occupation       32561 non-null  object\n",
      " 7    relationship     32561 non-null  object\n",
      " 8    race             32561 non-null  object\n",
      " 9   Gender            32561 non-null  object\n",
      " 10   capital-gain     32561 non-null  int64 \n",
      " 11   capital-loss     32561 non-null  int64 \n",
      " 12   hours-per-week   32561 non-null  int64 \n",
      " 13   country          32561 non-null  object\n",
      " 14   income           32561 non-null  object\n",
      "dtypes: int64(6), object(9)\n",
      "memory usage: 3.7+ MB\n"
     ]
    }
   ],
   "source": [
    "df.info()"
   ]
  },
  {
   "cell_type": "code",
   "execution_count": 19,
   "id": "b8e9e094",
   "metadata": {},
   "outputs": [
    {
     "data": {
      "text/plain": [
       "Age                 0\n",
       "Profession Class    0\n",
       "Final_census        0\n",
       " Education          0\n",
       " Education-num      0\n",
       " marital-status     0\n",
       " occupation         0\n",
       " relationship       0\n",
       " race               0\n",
       "Gender              0\n",
       " capital-gain       0\n",
       " capital-loss       0\n",
       " hours-per-week     0\n",
       " country            0\n",
       " income             0\n",
       "dtype: int64"
      ]
     },
     "execution_count": 19,
     "metadata": {},
     "output_type": "execute_result"
    }
   ],
   "source": [
    "df.isnull().sum()"
   ]
  },
  {
   "cell_type": "code",
   "execution_count": 20,
   "id": "ac36016a",
   "metadata": {},
   "outputs": [
    {
     "data": {
      "text/plain": [
       "Age                 0.558743\n",
       "Final_census        1.446980\n",
       " Education-num     -0.311676\n",
       " capital-gain      11.953848\n",
       " capital-loss       4.594629\n",
       " hours-per-week     0.227643\n",
       "dtype: float64"
      ]
     },
     "execution_count": 20,
     "metadata": {},
     "output_type": "execute_result"
    }
   ],
   "source": [
    "df.skew()"
   ]
  },
  {
   "cell_type": "markdown",
   "id": "28b47c20",
   "metadata": {},
   "source": [
    "There is skewness in the columns \n",
    "'Age','Final_census','Capital-gain','capital-loss' have positve skewness\n",
    "'education-num' has negative skewness\n",
    "hence we can conclude that all the numerical columns does not follow guasian distribution.\n"
   ]
  },
  {
   "cell_type": "code",
   "execution_count": 21,
   "id": "6a110874",
   "metadata": {},
   "outputs": [
    {
     "data": {
      "text/plain": [
       "<AxesSubplot:xlabel='Age', ylabel='Density'>"
      ]
     },
     "execution_count": 21,
     "metadata": {},
     "output_type": "execute_result"
    },
    {
     "data": {
      "image/png": "[encoded data removed]",
      "text/plain": [
       "<Figure size 1080x432 with 1 Axes>"
      ]
     },
     "metadata": {
      "needs_background": "light"
     },
     "output_type": "display_data"
    }
   ],
   "source": [
    "plt.figure(figsize=(15, 6))\n",
    "sns.distplot(df['Age'], bins=50)"
   ]
  },
  {
   "cell_type": "code",
   "execution_count": 22,
   "id": "e36ba818",
   "metadata": {},
   "outputs": [
    {
     "data": {
      "text/plain": [
       "<AxesSubplot:xlabel='Final_census', ylabel='Density'>"
      ]
     },
     "execution_count": 22,
     "metadata": {},
     "output_type": "execute_result"
    },
    {
     "data": {
      "image/png": "[encoded data removed]",
      "text/plain": [
       "<Figure size 1080x432 with 1 Axes>"
      ]
     },
     "metadata": {
      "needs_background": "light"
     },
     "output_type": "display_data"
    }
   ],
   "source": [
    "plt.figure(figsize=(15, 6))\n",
    "sns.distplot(df['Final_census'], bins=50)"
   ]
  },
  {
   "cell_type": "code",
   "execution_count": 23,
   "id": "c6211706",
   "metadata": {},
   "outputs": [
    {
     "data": {
      "text/plain": [
       "<AxesSubplot:xlabel=' Education-num', ylabel='Density'>"
      ]
     },
     "execution_count": 23,
     "metadata": {},
     "output_type": "execute_result"
    },
    {
     "data": {
      "image/png": "[encoded data removed]",
      "text/plain": [
       "<Figure size 1080x432 with 1 Axes>"
      ]
     },
     "metadata": {
      "needs_background": "light"
     },
     "output_type": "display_data"
    }
   ],
   "source": [
    "plt.figure(figsize=(15, 6))\n",
    "sns.distplot(df[' Education-num'], bins=50)"
   ]
  },
  {
   "cell_type": "code",
   "execution_count": 24,
   "id": "2aa75884",
   "metadata": {},
   "outputs": [
    {
     "data": {
      "text/plain": [
       "<AxesSubplot:xlabel=' capital-gain', ylabel='Density'>"
      ]
     },
     "execution_count": 24,
     "metadata": {},
     "output_type": "execute_result"
    },
    {
     "data": {
      "image/png": "[encoded data removed]",
      "text/plain": [
       "<Figure size 1080x432 with 1 Axes>"
      ]
     },
     "metadata": {
      "needs_background": "light"
     },
     "output_type": "display_data"
    }
   ],
   "source": [
    "plt.figure(figsize=(15, 6))\n",
    "sns.distplot(df[' capital-gain'], bins=50)"
   ]
  },
  {
   "cell_type": "code",
   "execution_count": 25,
   "id": "e75048ee",
   "metadata": {},
   "outputs": [
    {
     "data": {
      "text/plain": [
       "<AxesSubplot:xlabel=' hours-per-week', ylabel='Density'>"
      ]
     },
     "execution_count": 25,
     "metadata": {},
     "output_type": "execute_result"
    },
    {
     "data": {
      "image/png": "[encoded data removed]",
      "text/plain": [
       "<Figure size 1080x432 with 1 Axes>"
      ]
     },
     "metadata": {
      "needs_background": "light"
     },
     "output_type": "display_data"
    }
   ],
   "source": [
    "plt.figure(figsize=(15, 6))\n",
    "sns.distplot(df[' hours-per-week'], bins=50)"
   ]
  },
  {
   "cell_type": "code",
   "execution_count": 26,
   "id": "ef3ab5a9",
   "metadata": {},
   "outputs": [
    {
     "data": {
      "text/plain": [
       "Age                 -0.166127\n",
       "Final_census         6.218811\n",
       " Education-num       0.623444\n",
       " capital-gain      154.799438\n",
       " capital-loss       20.376802\n",
       " hours-per-week      2.916687\n",
       "dtype: float64"
      ]
     },
     "execution_count": 26,
     "metadata": {},
     "output_type": "execute_result"
    }
   ],
   "source": [
    "df.kurt()"
   ]
  },
  {
   "cell_type": "markdown",
   "id": "2997c8a0",
   "metadata": {},
   "source": [
    "From the kurtosis value we can conclude that there are outliers in the numerical columns"
   ]
  },
  {
   "cell_type": "markdown",
   "id": "e64988e0",
   "metadata": {},
   "source": [
    "# EDA"
   ]
  },
  {
   "cell_type": "code",
   "execution_count": 57,
   "id": "709e3df3",
   "metadata": {
    "scrolled": true
   },
   "outputs": [
    {
     "data": {
      "text/plain": [
       "Text(0.5, 0.98, 'Profession Class')"
      ]
     },
     "execution_count": 57,
     "metadata": {},
     "output_type": "execute_result"
    },
    {
     "data": {
      "image/png": "[encoded data removed]",
      "text/plain": [
       "<Figure size 864x1080 with 1 Axes>"
      ]
     },
     "metadata": {
      "needs_background": "light"
     },
     "output_type": "display_data"
    }
   ],
   "source": [
    "plt.subplots(1,1, figsize=(12, 15))\n",
    "\n",
    "plt.subplot(3,1,1)\n",
    "a = sns.countplot(x=df['Profession Class'],hue=df[\" income\"] , order = df['Profession Class'].value_counts(ascending=False).index)\n",
    "values_1= df.loc[df[\" income\"]==\"<=50K\",'Profession Class'].value_counts()\n",
    "values_2= df.loc[df[\" income\"]==\">50K\",'Profession Class'].value_counts()\n",
    "a.bar_label(container=a.containers[0], labels=values_1)\n",
    "a.bar_label(container=a.containers[1], labels=values_2)\n",
    "plt.xlabel(\" \")\n",
    "\n",
    "plt.suptitle('Profession Class',color ='r',size = 25 )"
   ]
  },
  {
   "cell_type": "code",
   "execution_count": null,
   "id": "19114c6c",
   "metadata": {},
   "outputs": [],
   "source": []
  },
  {
   "cell_type": "markdown",
   "id": "ed8c07f7",
   "metadata": {},
   "source": [
    "There are maximum people from the class private and the least from the class 'never worked'"
   ]
  },
  {
   "cell_type": "code",
   "execution_count": 58,
   "id": "19d95860",
   "metadata": {},
   "outputs": [
    {
     "data": {
      "text/plain": [
       "Text(0.5, 0.98, 'Education')"
      ]
     },
     "execution_count": 58,
     "metadata": {},
     "output_type": "execute_result"
    },
    {
     "data": {
      "image/png": "[encoded data removed]",
      "text/plain": [
       "<Figure size 1296x1080 with 1 Axes>"
      ]
     },
     "metadata": {
      "needs_background": "light"
     },
     "output_type": "display_data"
    }
   ],
   "source": [
    "plt.subplots(1,1, figsize=(18, 15))\n",
    "\n",
    "plt.subplot(3,1,1)\n",
    "a = sns.countplot(x=df[' Education'],hue=df[\" income\"] , order = df[' Education'].value_counts(ascending=False).index)\n",
    "values_1= df.loc[df[\" income\"]==\"<=50K\",' Education'].value_counts()\n",
    "values_2= df.loc[df[\" income\"]==\">50K\",' Education'].value_counts()\n",
    "a.bar_label(container=ax2.containers[0], labels=values_1)\n",
    "a.bar_label(container=ax2.containers[1], labels=values_2)\n",
    "plt.xlabel(\" \")\n",
    "\n",
    "plt.suptitle('Education',color ='r',size = 25 )"
   ]
  },
  {
   "cell_type": "code",
   "execution_count": 60,
   "id": "fa5fa979",
   "metadata": {},
   "outputs": [
    {
     "data": {
      "text/plain": [
       "Text(0.5, 0.98, 'Marital status')"
      ]
     },
     "execution_count": 60,
     "metadata": {},
     "output_type": "execute_result"
    },
    {
     "data": {
      "image/png": "[encoded data removed]",
      "text/plain": [
       "<Figure size 1296x1296 with 1 Axes>"
      ]
     },
     "metadata": {
      "needs_background": "light"
     },
     "output_type": "display_data"
    }
   ],
   "source": [
    "plt.subplots(1,1, figsize=(18, 18))\n",
    "\n",
    "plt.subplot(3,1,1)\n",
    "a=sns.countplot(x=df[' marital-status'],hue=df[\" income\"], order = df[' marital-status'].value_counts(ascending=False).index)\n",
    "values_1= df.loc[df[\" income\"]==\"<=50K\",' marital-status'].value_counts()\n",
    "values_2= df.loc[df[\" income\"]==\">50K\",' marital-status'].value_counts()\n",
    "a.bar_label(container=a.containers[0], labels=values_1)\n",
    "a.bar_label(container=a.containers[1], labels=values_2)\n",
    "plt.suptitle('Marital status',color='r',size = 25)\n"
   ]
  },
  {
   "cell_type": "code",
   "execution_count": 62,
   "id": "61a3e86a",
   "metadata": {},
   "outputs": [
    {
     "data": {
      "text/plain": [
       "Text(0.5, 0.98, 'Occupation')"
      ]
     },
     "execution_count": 62,
     "metadata": {},
     "output_type": "execute_result"
    },
    {
     "data": {
      "image/png": "[encoded data removed]",
      "text/plain": [
       "<Figure size 1440x1440 with 1 Axes>"
      ]
     },
     "metadata": {
      "needs_background": "light"
     },
     "output_type": "display_data"
    }
   ],
   "source": [
    "plt.subplots(1,1, figsize=(20, 20))\n",
    "\n",
    "plt.subplot(3,1,1)\n",
    "a=sns.countplot(x=df[' occupation'],hue=df[\" income\"], order = df[' occupation'].value_counts(ascending=False).index)\n",
    "values_1= df.loc[df[\" income\"]==\"<=50\",' occupation'].value_counts()\n",
    "values_2= df.loc[df[\" income\"]==\">50\",' occupation'].value_counts()\n",
    "a.bar_label(container=a.containers[0], labels=values_1)\n",
    "a.bar_label(container=a.containers[1], labels=values_2)\n",
    "plt.suptitle('Occupation',color='r',size = 25)"
   ]
  },
  {
   "cell_type": "code",
   "execution_count": 63,
   "id": "8e264853",
   "metadata": {},
   "outputs": [
    {
     "data": {
      "text/plain": [
       "Text(0.5, 0.98, 'Relationship')"
      ]
     },
     "execution_count": 63,
     "metadata": {},
     "output_type": "execute_result"
    },
    {
     "data": {
      "image/png": "[encoded data removed]",
      "text/plain": [
       "<Figure size 1440x1440 with 1 Axes>"
      ]
     },
     "metadata": {
      "needs_background": "light"
     },
     "output_type": "display_data"
    }
   ],
   "source": [
    "plt.subplots(1,1, figsize=(20, 20))\n",
    "\n",
    "plt.subplot(3,1,1)\n",
    "a=sns.countplot(x=df[' relationship'],hue=df[\" income\"], order = df[' relationship'].value_counts(ascending=False).index)\n",
    "values_1= df.loc[df[\" income\"]==\"<=50\",' relationship'].value_counts()\n",
    "values_2= df.loc[df[\" income\"]==\">50\",' relationship'].value_counts()\n",
    "a.bar_label(container=a.containers[0], labels=values_1)\n",
    "a.bar_label(container=a.containers[1], labels=values_2)\n",
    "plt.suptitle('Relationship',color='r',size = 25)"
   ]
  },
  {
   "cell_type": "code",
   "execution_count": 64,
   "id": "30bd27d3",
   "metadata": {},
   "outputs": [
    {
     "data": {
      "text/plain": [
       "Text(0.5, 0.98, 'Race')"
      ]
     },
     "execution_count": 64,
     "metadata": {},
     "output_type": "execute_result"
    },
    {
     "data": {
      "image/png": "[encoded data removed]",
      "text/plain": [
       "<Figure size 1440x1440 with 1 Axes>"
      ]
     },
     "metadata": {
      "needs_background": "light"
     },
     "output_type": "display_data"
    }
   ],
   "source": [
    "plt.subplots(1,1, figsize=(20, 20))\n",
    "\n",
    "plt.subplot(3,1,1)\n",
    "a=sns.countplot(x=df[' race'],hue=df[\" income\"], order = df[' race'].value_counts(ascending=False).index)\n",
    "values_1= df.loc[df[\" income\"]==\"<=50\",' race'].value_counts()\n",
    "values_2= df.loc[df[\" income\"]==\">50\",' race'].value_counts()\n",
    "a.bar_label(container=a.containers[0], labels=values_1)\n",
    "a.bar_label(container=a.containers[1], labels=values_2)\n",
    "plt.suptitle('Race',color='r',size = 25)"
   ]
  },
  {
   "cell_type": "code",
   "execution_count": 65,
   "id": "76d894ab",
   "metadata": {},
   "outputs": [
    {
     "data": {
      "text/plain": [
       "Text(0.5, 0.98, 'Gender')"
      ]
     },
     "execution_count": 65,
     "metadata": {},
     "output_type": "execute_result"
    },
    {
     "data": {
      "image/png": "[encoded data removed]",
      "text/plain": [
       "<Figure size 1440x1440 with 1 Axes>"
      ]
     },
     "metadata": {
      "needs_background": "light"
     },
     "output_type": "display_data"
    }
   ],
   "source": [
    "plt.subplots(1,1, figsize=(20, 20))\n",
    "\n",
    "plt.subplot(3,1,1)\n",
    "a=sns.countplot(x=df['Gender'],hue=df[\" income\"], order = df['Gender'].value_counts(ascending=False).index)\n",
    "values_1= df.loc[df[\" income\"]==\"<=50\",'Gender'].value_counts()\n",
    "values_2= df.loc[df[\" income\"]==\">50\",'Gender'].value_counts()\n",
    "a.bar_label(container=a.containers[0], labels=values_1)\n",
    "a.bar_label(container=a.containers[1], labels=values_2)\n",
    "plt.suptitle('Gender',color='r',size = 25)"
   ]
  },
  {
   "cell_type": "code",
   "execution_count": 76,
   "id": "943b21f4",
   "metadata": {},
   "outputs": [],
   "source": [
    "Country = df[[' country',' income']]\n",
    "Country[\"Country_Group\"] = np.where(Country[' country']==\" United-States\",'United-States','Others')"
   ]
  },
  {
   "cell_type": "code",
   "execution_count": 78,
   "id": "69ae0319",
   "metadata": {},
   "outputs": [
    {
     "data": {
      "text/html": [
       "<div>\n",
       "<style scoped>\n",
       "    .dataframe tbody tr th:only-of-type {\n",
       "        vertical-align: middle;\n",
       "    }\n",
       "\n",
       "    .dataframe tbody tr th {\n",
       "        vertical-align: top;\n",
       "    }\n",
       "\n",
       "    .dataframe thead th {\n",
       "        text-align: right;\n",
       "    }\n",
       "</style>\n",
       "<table border=\"1\" class=\"dataframe\">\n",
       "  <thead>\n",
       "    <tr style=\"text-align: right;\">\n",
       "      <th></th>\n",
       "      <th>country</th>\n",
       "      <th>income</th>\n",
       "      <th>Country_Group</th>\n",
       "    </tr>\n",
       "  </thead>\n",
       "  <tbody>\n",
       "    <tr>\n",
       "      <th>0</th>\n",
       "      <td>United-States</td>\n",
       "      <td>&lt;=50K</td>\n",
       "      <td>United-States</td>\n",
       "    </tr>\n",
       "    <tr>\n",
       "      <th>1</th>\n",
       "      <td>United-States</td>\n",
       "      <td>&lt;=50K</td>\n",
       "      <td>United-States</td>\n",
       "    </tr>\n",
       "    <tr>\n",
       "      <th>2</th>\n",
       "      <td>United-States</td>\n",
       "      <td>&lt;=50K</td>\n",
       "      <td>United-States</td>\n",
       "    </tr>\n",
       "    <tr>\n",
       "      <th>3</th>\n",
       "      <td>United-States</td>\n",
       "      <td>&lt;=50K</td>\n",
       "      <td>United-States</td>\n",
       "    </tr>\n",
       "    <tr>\n",
       "      <th>4</th>\n",
       "      <td>Cuba</td>\n",
       "      <td>&lt;=50K</td>\n",
       "      <td>Others</td>\n",
       "    </tr>\n",
       "  </tbody>\n",
       "</table>\n",
       "</div>"
      ],
      "text/plain": [
       "          country  income  Country_Group\n",
       "0   United-States   <=50K  United-States\n",
       "1   United-States   <=50K  United-States\n",
       "2   United-States   <=50K  United-States\n",
       "3   United-States   <=50K  United-States\n",
       "4            Cuba   <=50K         Others"
      ]
     },
     "execution_count": 78,
     "metadata": {},
     "output_type": "execute_result"
    }
   ],
   "source": [
    "Country.head()"
   ]
  },
  {
   "cell_type": "code",
   "execution_count": 77,
   "id": "66b8e301",
   "metadata": {},
   "outputs": [
    {
     "data": {
      "image/png": "[encoded data removed]",
      "text/plain": [
       "<Figure size 864x360 with 2 Axes>"
      ]
     },
     "metadata": {
      "needs_background": "light"
     },
     "output_type": "display_data"
    }
   ],
   "source": [
    "plt.subplots(1,2, figsize=(12, 5))\n",
    "\n",
    "plt.subplot(1,2,1)\n",
    "sns.countplot(Country['Country_Group'])\n",
    "\n",
    "plt.subplot(1,2,2)\n",
    "sns.countplot(Country['Country_Group'],hue=Country[' income'])\n",
    "plt.suptitle('Country',color ='g',size = 18 )\n",
    "plt.show()"
   ]
  },
  {
   "cell_type": "code",
   "execution_count": 72,
   "id": "ee8e6386",
   "metadata": {},
   "outputs": [
    {
     "data": {
      "image/png": "[encoded data removed]",
      "text/plain": [
       "<Figure size 1152x1080 with 3 Axes>"
      ]
     },
     "metadata": {
      "needs_background": "light"
     },
     "output_type": "display_data"
    }
   ],
   "source": [
    "plt.subplots(3,1, figsize=(16, 15))\n",
    "\n",
    "plt.subplot(3,1,1)\n",
    "sns.histplot(df['Age'])\n",
    "\n",
    "\n",
    "plt.subplot(3,1,2)\n",
    "sns.countplot(x=df[df['Age']<=50]['Age'],hue=df[\" income\"] )\n",
    "plt.legend(loc='upper right')\n",
    "plt.xlabel(\" \")\n",
    "\n",
    "plt.subplot(3,1,3)\n",
    "sns.countplot(x=df[df['Age']>50]['Age'],hue=df[\" income\"] )\n",
    "plt.legend(loc='upper right')\n",
    "plt.xlabel(\" \")\n",
    "\n",
    "plt.suptitle('Age',color ='r',size = 25 )\n",
    "\n",
    "plt.show()"
   ]
  },
  {
   "cell_type": "code",
   "execution_count": null,
   "id": "6f1d0f50",
   "metadata": {},
   "outputs": [],
   "source": []
  },
  {
   "cell_type": "code",
   "execution_count": 73,
   "id": "5960c903",
   "metadata": {},
   "outputs": [
    {
     "data": {
      "image/png": "[encoded data removed]",
      "text/plain": [
       "<Figure size 1152x1080 with 2 Axes>"
      ]
     },
     "metadata": {
      "needs_background": "light"
     },
     "output_type": "display_data"
    }
   ],
   "source": [
    "\n",
    "plt.subplots(2,1, figsize=(16, 15))\n",
    "\n",
    "plt.subplot(2,1,1)\n",
    "sns.histplot(df[' Education-num'])\n",
    "\n",
    "\n",
    "plt.subplot(2,1,2)\n",
    "sns.countplot(x=df[' Education-num'],hue=df[\" income\"] )\n",
    "plt.legend(loc='upper right')\n",
    "plt.xlabel(\" \")\n",
    "\n",
    "\n",
    "plt.suptitle('Education Number',color ='r',size = 22 )\n",
    "\n",
    "plt.show()"
   ]
  },
  {
   "cell_type": "code",
   "execution_count": 74,
   "id": "f974bb52",
   "metadata": {},
   "outputs": [
    {
     "data": {
      "image/png": "[encoded data removed]",
      "text/plain": [
       "<Figure size 1152x720 with 3 Axes>"
      ]
     },
     "metadata": {
      "needs_background": "light"
     },
     "output_type": "display_data"
    }
   ],
   "source": [
    "# Hours per week distribution\n",
    "\n",
    "plt.subplots(3,1, figsize=(16, 10))\n",
    "\n",
    "plt.subplot(3,1,1)\n",
    "sns.histplot(df[' hours-per-week'])\n",
    "\n",
    "plt.subplot(3,1,2)\n",
    "sns.countplot(x=df[df[' hours-per-week']<50][' hours-per-week'],hue=df[\" income\"] )\n",
    "plt.legend(loc='upper right')\n",
    "plt.xlabel(\" \")\n",
    "\n",
    "plt.subplot(3,1,3)\n",
    "sns.countplot(x=df[df[' hours-per-week']>50][' hours-per-week'],hue=df[\" income\"] )\n",
    "plt.legend(loc='upper right')\n",
    "plt.ylim(0, 12000)\n",
    "plt.xlabel(\" \")\n",
    "\n",
    "\n",
    "plt.suptitle('Hours per week',color ='g',size = 22 )\n",
    "\n",
    "plt.show()"
   ]
  },
  {
   "cell_type": "code",
   "execution_count": 79,
   "id": "0d05d221",
   "metadata": {},
   "outputs": [],
   "source": [
    "Capital = df[[' capital-gain',' capital-loss',' income']]\n",
    "Capital[\"Capital_Gain\"] = np.where(Capital[' capital-gain']>0,'Gain','Did not gain')\n",
    "Capital[\"Capital_Loss\"] = np.where(Capital[' capital-loss']>0,'Loss','Did not loss')"
   ]
  },
  {
   "cell_type": "code",
   "execution_count": 80,
   "id": "a0844812",
   "metadata": {},
   "outputs": [
    {
     "data": {
      "text/plain": [
       "<AxesSubplot:xlabel='Capital_Gain', ylabel='count'>"
      ]
     },
     "execution_count": 80,
     "metadata": {},
     "output_type": "execute_result"
    },
    {
     "data": {
      "image/png": "[encoded data removed]",
      "text/plain": [
       "<Figure size 864x360 with 2 Axes>"
      ]
     },
     "metadata": {
      "needs_background": "light"
     },
     "output_type": "display_data"
    }
   ],
   "source": [
    "plt.subplots(1,2, figsize=(12, 5))\n",
    "\n",
    "plt.subplot(1,2,1)\n",
    "sns.countplot(Capital['Capital_Gain'])\n",
    "\n",
    "plt.subplot(1,2,2)\n",
    "sns.countplot(Capital['Capital_Gain'],hue=Capital[' income'])"
   ]
  },
  {
   "cell_type": "code",
   "execution_count": 81,
   "id": "522483f4",
   "metadata": {},
   "outputs": [
    {
     "data": {
      "text/plain": [
       "<AxesSubplot:xlabel='Capital_Loss', ylabel='count'>"
      ]
     },
     "execution_count": 81,
     "metadata": {},
     "output_type": "execute_result"
    },
    {
     "data": {
      "image/png": "[encoded data removed]",
      "text/plain": [
       "<Figure size 864x360 with 2 Axes>"
      ]
     },
     "metadata": {
      "needs_background": "light"
     },
     "output_type": "display_data"
    }
   ],
   "source": [
    "plt.subplots(1,2, figsize=(12, 5))\n",
    "\n",
    "plt.subplot(1,2,1)\n",
    "sns.countplot(Capital['Capital_Loss'])\n",
    "\n",
    "plt.subplot(1,2,2)\n",
    "sns.countplot(Capital['Capital_Loss'],hue=Capital[' income'])"
   ]
  },
  {
   "cell_type": "markdown",
   "id": "e8b60529",
   "metadata": {},
   "source": [
    "# MODEL"
   ]
  },
  {
   "cell_type": "code",
   "execution_count": 5,
   "id": "3c9abd83",
   "metadata": {},
   "outputs": [],
   "source": [
    "data = df.copy()"
   ]
  },
  {
   "cell_type": "markdown",
   "id": "dc3c9850",
   "metadata": {},
   "source": [
    "Outlier Treatment"
   ]
  },
  {
   "cell_type": "code",
   "execution_count": 6,
   "id": "c0e6b5bd",
   "metadata": {},
   "outputs": [
    {
     "name": "stdout",
     "output_type": "stream",
     "text": [
      "['Age', 'Final_census', ' Education-num', ' capital-gain', ' capital-loss', ' hours-per-week']\n"
     ]
    }
   ],
   "source": [
    "# Numeric Columns\n",
    "\n",
    "Num_cols = [i for i in data.columns if data[i].dtype!='O']\n",
    "print(Num_cols)"
   ]
  },
  {
   "cell_type": "code",
   "execution_count": 85,
   "id": "2e50a7cb",
   "metadata": {},
   "outputs": [
    {
     "data": {
      "image/png": "[encoded data removed]",
      "text/plain": [
       "<Figure size 1008x1080 with 6 Axes>"
      ]
     },
     "metadata": {
      "needs_background": "light"
     },
     "output_type": "display_data"
    }
   ],
   "source": [
    "plt.subplots(3,2,figsize=(14,15))\n",
    "\n",
    "for i,j in enumerate(Num_cols):\n",
    "    plt.subplot(3,2,i+1)\n",
    "    sns.boxplot( y = data[j])\n",
    "    plt.title(j,color = 'r')\n",
    "    \n",
    "plt.suptitle('Outliers Before capping')\n",
    "plt.show()"
   ]
  },
  {
   "cell_type": "code",
   "execution_count": 7,
   "id": "aede25a1",
   "metadata": {},
   "outputs": [
    {
     "name": "stdout",
     "output_type": "stream",
     "text": [
      "Upper fence : \n",
      "\n",
      " Age                    78.0\n",
      "Final_census       415887.0\n",
      " Education-num         16.5\n",
      " capital-gain           0.0\n",
      " capital-loss           0.0\n",
      " hours-per-week        52.5\n",
      "dtype: float64\n",
      "Lower fence : \n",
      "\n",
      " Age                   -2.0\n",
      "Final_census      -61009.0\n",
      " Education-num         4.5\n",
      " capital-gain          0.0\n",
      " capital-loss          0.0\n",
      " hours-per-week       32.5\n",
      "dtype: float64\n"
     ]
    }
   ],
   "source": [
    "Q1 = data.quantile(0.25)\n",
    "Q3 = data.quantile(0.75)\n",
    "IQR = Q3-Q1\n",
    "Upper_fence = (Q3+(1.5*IQR))\n",
    "Lower_fence = (Q1-(1.5*IQR))\n",
    "print(\"Upper fence : \\n\\n\",Upper_fence)\n",
    "print(\"Lower fence : \\n\\n\",Lower_fence)"
   ]
  },
  {
   "cell_type": "code",
   "execution_count": 8,
   "id": "7c466683",
   "metadata": {},
   "outputs": [],
   "source": [
    "data[\"Age\"]=np.where(data[\"Age\"]>78.0,78.0,np.where(data[\"Age\"]<-2.0,-2.0,data[\"Age\"]))\n",
    "\n",
    "data[\"Final_census\"]=np.where(data[\"Final_census\"]>415887.0,415887.0,data[\"Final_census\"])\n",
    "\n",
    "data[\" Education-num\"]=np.where(data[\" Education-num\"]>16.5,16.5,\n",
    "                                np.where(data[\" Education-num\"]<4.5,4.5,\n",
    "                                         data[\" Education-num\"]))\n",
    "data[\" hours-per-week\"]=np.where(data[\" hours-per-week\"]>52.5,52.5,\n",
    "                                 np.where(data[\" hours-per-week\"]<32.5,32.5,\n",
    "                                          data[\" hours-per-week\"]))"
   ]
  },
  {
   "cell_type": "markdown",
   "id": "f8a45a16",
   "metadata": {},
   "source": [
    "Label Encoding"
   ]
  },
  {
   "cell_type": "code",
   "execution_count": 9,
   "id": "9460810f",
   "metadata": {},
   "outputs": [],
   "source": [
    "cols = [i for i in data.columns if data[i].dtype=='O' and i!=' income']\n",
    "\n",
    "data=pd.get_dummies(data,columns=cols,drop_first=True)"
   ]
  },
  {
   "cell_type": "code",
   "execution_count": 10,
   "id": "b53adb95",
   "metadata": {},
   "outputs": [],
   "source": [
    "data[' income'] = data[' income'].map({' <=50K':0,' >50K':1})"
   ]
  },
  {
   "cell_type": "code",
   "execution_count": 91,
   "id": "b6eb0db6",
   "metadata": {},
   "outputs": [
    {
     "data": {
      "text/html": [
       "<div>\n",
       "<style scoped>\n",
       "    .dataframe tbody tr th:only-of-type {\n",
       "        vertical-align: middle;\n",
       "    }\n",
       "\n",
       "    .dataframe tbody tr th {\n",
       "        vertical-align: top;\n",
       "    }\n",
       "\n",
       "    .dataframe thead th {\n",
       "        text-align: right;\n",
       "    }\n",
       "</style>\n",
       "<table border=\"1\" class=\"dataframe\">\n",
       "  <thead>\n",
       "    <tr style=\"text-align: right;\">\n",
       "      <th></th>\n",
       "      <th>Age</th>\n",
       "      <th>Final_census</th>\n",
       "      <th>Education-num</th>\n",
       "      <th>capital-gain</th>\n",
       "      <th>capital-loss</th>\n",
       "      <th>hours-per-week</th>\n",
       "      <th>income</th>\n",
       "      <th>Profession Class_ Local-gov</th>\n",
       "      <th>Profession Class_ Never-worked</th>\n",
       "      <th>Profession Class_ Private</th>\n",
       "      <th>Profession Class_ Self-emp-inc</th>\n",
       "      <th>Profession Class_ Self-emp-not-inc</th>\n",
       "      <th>Profession Class_ State-gov</th>\n",
       "      <th>Profession Class_ Without-pay</th>\n",
       "      <th>Education_ 11th</th>\n",
       "      <th>Education_ 12th</th>\n",
       "      <th>Education_ 1st-4th</th>\n",
       "      <th>Education_ 5th-6th</th>\n",
       "      <th>Education_ 7th-8th</th>\n",
       "      <th>Education_ 9th</th>\n",
       "      <th>Education_ Assoc-acdm</th>\n",
       "      <th>Education_ Assoc-voc</th>\n",
       "      <th>Education_ Bachelors</th>\n",
       "      <th>Education_ Doctorate</th>\n",
       "      <th>Education_ HS-grad</th>\n",
       "      <th>Education_ Masters</th>\n",
       "      <th>Education_ Preschool</th>\n",
       "      <th>Education_ Prof-school</th>\n",
       "      <th>Education_ Some-college</th>\n",
       "      <th>marital-status_ Married-AF-spouse</th>\n",
       "      <th>marital-status_ Married-civ-spouse</th>\n",
       "      <th>marital-status_ Married-spouse-absent</th>\n",
       "      <th>marital-status_ Never-married</th>\n",
       "      <th>marital-status_ Separated</th>\n",
       "      <th>marital-status_ Widowed</th>\n",
       "      <th>occupation_ Armed-Forces</th>\n",
       "      <th>occupation_ Craft-repair</th>\n",
       "      <th>occupation_ Exec-managerial</th>\n",
       "      <th>occupation_ Farming-fishing</th>\n",
       "      <th>occupation_ Handlers-cleaners</th>\n",
       "      <th>occupation_ Machine-op-inspct</th>\n",
       "      <th>occupation_ Other-service</th>\n",
       "      <th>occupation_ Priv-house-serv</th>\n",
       "      <th>occupation_ Prof-specialty</th>\n",
       "      <th>occupation_ Protective-serv</th>\n",
       "      <th>occupation_ Sales</th>\n",
       "      <th>occupation_ Tech-support</th>\n",
       "      <th>occupation_ Transport-moving</th>\n",
       "      <th>relationship_ Not-in-family</th>\n",
       "      <th>relationship_ Other-relative</th>\n",
       "      <th>relationship_ Own-child</th>\n",
       "      <th>relationship_ Unmarried</th>\n",
       "      <th>relationship_ Wife</th>\n",
       "      <th>race_ Asian-Pac-Islander</th>\n",
       "      <th>race_ Black</th>\n",
       "      <th>race_ Other</th>\n",
       "      <th>race_ White</th>\n",
       "      <th>Gender_ Male</th>\n",
       "      <th>country_ Canada</th>\n",
       "      <th>country_ China</th>\n",
       "      <th>country_ Columbia</th>\n",
       "      <th>country_ Cuba</th>\n",
       "      <th>country_ Dominican-Republic</th>\n",
       "      <th>country_ Ecuador</th>\n",
       "      <th>country_ El-Salvador</th>\n",
       "      <th>country_ England</th>\n",
       "      <th>country_ France</th>\n",
       "      <th>country_ Germany</th>\n",
       "      <th>country_ Greece</th>\n",
       "      <th>country_ Guatemala</th>\n",
       "      <th>country_ Haiti</th>\n",
       "      <th>country_ Holand-Netherlands</th>\n",
       "      <th>country_ Honduras</th>\n",
       "      <th>country_ Hong</th>\n",
       "      <th>country_ Hungary</th>\n",
       "      <th>country_ India</th>\n",
       "      <th>country_ Iran</th>\n",
       "      <th>country_ Ireland</th>\n",
       "      <th>country_ Italy</th>\n",
       "      <th>country_ Jamaica</th>\n",
       "      <th>country_ Japan</th>\n",
       "      <th>country_ Laos</th>\n",
       "      <th>country_ Mexico</th>\n",
       "      <th>country_ Nicaragua</th>\n",
       "      <th>country_ Outlying-US(Guam-USVI-etc)</th>\n",
       "      <th>country_ Peru</th>\n",
       "      <th>country_ Philippines</th>\n",
       "      <th>country_ Poland</th>\n",
       "      <th>country_ Portugal</th>\n",
       "      <th>country_ Puerto-Rico</th>\n",
       "      <th>country_ Scotland</th>\n",
       "      <th>country_ South</th>\n",
       "      <th>country_ Taiwan</th>\n",
       "      <th>country_ Thailand</th>\n",
       "      <th>country_ Trinadad&amp;Tobago</th>\n",
       "      <th>country_ United-States</th>\n",
       "      <th>country_ Vietnam</th>\n",
       "      <th>country_ Yugoslavia</th>\n",
       "    </tr>\n",
       "  </thead>\n",
       "  <tbody>\n",
       "    <tr>\n",
       "      <th>0</th>\n",
       "      <td>39.0</td>\n",
       "      <td>77516.0</td>\n",
       "      <td>13.0</td>\n",
       "      <td>0.0</td>\n",
       "      <td>0.0</td>\n",
       "      <td>40.0</td>\n",
       "      <td>0</td>\n",
       "      <td>0</td>\n",
       "      <td>0</td>\n",
       "      <td>0</td>\n",
       "      <td>0</td>\n",
       "      <td>0</td>\n",
       "      <td>1</td>\n",
       "      <td>0</td>\n",
       "      <td>0</td>\n",
       "      <td>0</td>\n",
       "      <td>0</td>\n",
       "      <td>0</td>\n",
       "      <td>0</td>\n",
       "      <td>0</td>\n",
       "      <td>0</td>\n",
       "      <td>0</td>\n",
       "      <td>1</td>\n",
       "      <td>0</td>\n",
       "      <td>0</td>\n",
       "      <td>0</td>\n",
       "      <td>0</td>\n",
       "      <td>0</td>\n",
       "      <td>0</td>\n",
       "      <td>0</td>\n",
       "      <td>0</td>\n",
       "      <td>0</td>\n",
       "      <td>1</td>\n",
       "      <td>0</td>\n",
       "      <td>0</td>\n",
       "      <td>0</td>\n",
       "      <td>0</td>\n",
       "      <td>0</td>\n",
       "      <td>0</td>\n",
       "      <td>0</td>\n",
       "      <td>0</td>\n",
       "      <td>0</td>\n",
       "      <td>0</td>\n",
       "      <td>0</td>\n",
       "      <td>0</td>\n",
       "      <td>0</td>\n",
       "      <td>0</td>\n",
       "      <td>0</td>\n",
       "      <td>1</td>\n",
       "      <td>0</td>\n",
       "      <td>0</td>\n",
       "      <td>0</td>\n",
       "      <td>0</td>\n",
       "      <td>0</td>\n",
       "      <td>0</td>\n",
       "      <td>0</td>\n",
       "      <td>1</td>\n",
       "      <td>1</td>\n",
       "      <td>0</td>\n",
       "      <td>0</td>\n",
       "      <td>0</td>\n",
       "      <td>0</td>\n",
       "      <td>0</td>\n",
       "      <td>0</td>\n",
       "      <td>0</td>\n",
       "      <td>0</td>\n",
       "      <td>0</td>\n",
       "      <td>0</td>\n",
       "      <td>0</td>\n",
       "      <td>0</td>\n",
       "      <td>0</td>\n",
       "      <td>0</td>\n",
       "      <td>0</td>\n",
       "      <td>0</td>\n",
       "      <td>0</td>\n",
       "      <td>0</td>\n",
       "      <td>0</td>\n",
       "      <td>0</td>\n",
       "      <td>0</td>\n",
       "      <td>0</td>\n",
       "      <td>0</td>\n",
       "      <td>0</td>\n",
       "      <td>0</td>\n",
       "      <td>0</td>\n",
       "      <td>0</td>\n",
       "      <td>0</td>\n",
       "      <td>0</td>\n",
       "      <td>0</td>\n",
       "      <td>0</td>\n",
       "      <td>0</td>\n",
       "      <td>0</td>\n",
       "      <td>0</td>\n",
       "      <td>0</td>\n",
       "      <td>0</td>\n",
       "      <td>0</td>\n",
       "      <td>1</td>\n",
       "      <td>0</td>\n",
       "      <td>0</td>\n",
       "    </tr>\n",
       "    <tr>\n",
       "      <th>1</th>\n",
       "      <td>50.0</td>\n",
       "      <td>83311.0</td>\n",
       "      <td>13.0</td>\n",
       "      <td>0.0</td>\n",
       "      <td>0.0</td>\n",
       "      <td>32.5</td>\n",
       "      <td>0</td>\n",
       "      <td>0</td>\n",
       "      <td>0</td>\n",
       "      <td>0</td>\n",
       "      <td>0</td>\n",
       "      <td>1</td>\n",
       "      <td>0</td>\n",
       "      <td>0</td>\n",
       "      <td>0</td>\n",
       "      <td>0</td>\n",
       "      <td>0</td>\n",
       "      <td>0</td>\n",
       "      <td>0</td>\n",
       "      <td>0</td>\n",
       "      <td>0</td>\n",
       "      <td>0</td>\n",
       "      <td>1</td>\n",
       "      <td>0</td>\n",
       "      <td>0</td>\n",
       "      <td>0</td>\n",
       "      <td>0</td>\n",
       "      <td>0</td>\n",
       "      <td>0</td>\n",
       "      <td>0</td>\n",
       "      <td>1</td>\n",
       "      <td>0</td>\n",
       "      <td>0</td>\n",
       "      <td>0</td>\n",
       "      <td>0</td>\n",
       "      <td>0</td>\n",
       "      <td>0</td>\n",
       "      <td>1</td>\n",
       "      <td>0</td>\n",
       "      <td>0</td>\n",
       "      <td>0</td>\n",
       "      <td>0</td>\n",
       "      <td>0</td>\n",
       "      <td>0</td>\n",
       "      <td>0</td>\n",
       "      <td>0</td>\n",
       "      <td>0</td>\n",
       "      <td>0</td>\n",
       "      <td>0</td>\n",
       "      <td>0</td>\n",
       "      <td>0</td>\n",
       "      <td>0</td>\n",
       "      <td>0</td>\n",
       "      <td>0</td>\n",
       "      <td>0</td>\n",
       "      <td>0</td>\n",
       "      <td>1</td>\n",
       "      <td>1</td>\n",
       "      <td>0</td>\n",
       "      <td>0</td>\n",
       "      <td>0</td>\n",
       "      <td>0</td>\n",
       "      <td>0</td>\n",
       "      <td>0</td>\n",
       "      <td>0</td>\n",
       "      <td>0</td>\n",
       "      <td>0</td>\n",
       "      <td>0</td>\n",
       "      <td>0</td>\n",
       "      <td>0</td>\n",
       "      <td>0</td>\n",
       "      <td>0</td>\n",
       "      <td>0</td>\n",
       "      <td>0</td>\n",
       "      <td>0</td>\n",
       "      <td>0</td>\n",
       "      <td>0</td>\n",
       "      <td>0</td>\n",
       "      <td>0</td>\n",
       "      <td>0</td>\n",
       "      <td>0</td>\n",
       "      <td>0</td>\n",
       "      <td>0</td>\n",
       "      <td>0</td>\n",
       "      <td>0</td>\n",
       "      <td>0</td>\n",
       "      <td>0</td>\n",
       "      <td>0</td>\n",
       "      <td>0</td>\n",
       "      <td>0</td>\n",
       "      <td>0</td>\n",
       "      <td>0</td>\n",
       "      <td>0</td>\n",
       "      <td>0</td>\n",
       "      <td>0</td>\n",
       "      <td>1</td>\n",
       "      <td>0</td>\n",
       "      <td>0</td>\n",
       "    </tr>\n",
       "    <tr>\n",
       "      <th>2</th>\n",
       "      <td>38.0</td>\n",
       "      <td>215646.0</td>\n",
       "      <td>9.0</td>\n",
       "      <td>0.0</td>\n",
       "      <td>0.0</td>\n",
       "      <td>40.0</td>\n",
       "      <td>0</td>\n",
       "      <td>0</td>\n",
       "      <td>0</td>\n",
       "      <td>1</td>\n",
       "      <td>0</td>\n",
       "      <td>0</td>\n",
       "      <td>0</td>\n",
       "      <td>0</td>\n",
       "      <td>0</td>\n",
       "      <td>0</td>\n",
       "      <td>0</td>\n",
       "      <td>0</td>\n",
       "      <td>0</td>\n",
       "      <td>0</td>\n",
       "      <td>0</td>\n",
       "      <td>0</td>\n",
       "      <td>0</td>\n",
       "      <td>0</td>\n",
       "      <td>1</td>\n",
       "      <td>0</td>\n",
       "      <td>0</td>\n",
       "      <td>0</td>\n",
       "      <td>0</td>\n",
       "      <td>0</td>\n",
       "      <td>0</td>\n",
       "      <td>0</td>\n",
       "      <td>0</td>\n",
       "      <td>0</td>\n",
       "      <td>0</td>\n",
       "      <td>0</td>\n",
       "      <td>0</td>\n",
       "      <td>0</td>\n",
       "      <td>0</td>\n",
       "      <td>1</td>\n",
       "      <td>0</td>\n",
       "      <td>0</td>\n",
       "      <td>0</td>\n",
       "      <td>0</td>\n",
       "      <td>0</td>\n",
       "      <td>0</td>\n",
       "      <td>0</td>\n",
       "      <td>0</td>\n",
       "      <td>1</td>\n",
       "      <td>0</td>\n",
       "      <td>0</td>\n",
       "      <td>0</td>\n",
       "      <td>0</td>\n",
       "      <td>0</td>\n",
       "      <td>0</td>\n",
       "      <td>0</td>\n",
       "      <td>1</td>\n",
       "      <td>1</td>\n",
       "      <td>0</td>\n",
       "      <td>0</td>\n",
       "      <td>0</td>\n",
       "      <td>0</td>\n",
       "      <td>0</td>\n",
       "      <td>0</td>\n",
       "      <td>0</td>\n",
       "      <td>0</td>\n",
       "      <td>0</td>\n",
       "      <td>0</td>\n",
       "      <td>0</td>\n",
       "      <td>0</td>\n",
       "      <td>0</td>\n",
       "      <td>0</td>\n",
       "      <td>0</td>\n",
       "      <td>0</td>\n",
       "      <td>0</td>\n",
       "      <td>0</td>\n",
       "      <td>0</td>\n",
       "      <td>0</td>\n",
       "      <td>0</td>\n",
       "      <td>0</td>\n",
       "      <td>0</td>\n",
       "      <td>0</td>\n",
       "      <td>0</td>\n",
       "      <td>0</td>\n",
       "      <td>0</td>\n",
       "      <td>0</td>\n",
       "      <td>0</td>\n",
       "      <td>0</td>\n",
       "      <td>0</td>\n",
       "      <td>0</td>\n",
       "      <td>0</td>\n",
       "      <td>0</td>\n",
       "      <td>0</td>\n",
       "      <td>0</td>\n",
       "      <td>0</td>\n",
       "      <td>1</td>\n",
       "      <td>0</td>\n",
       "      <td>0</td>\n",
       "    </tr>\n",
       "    <tr>\n",
       "      <th>3</th>\n",
       "      <td>53.0</td>\n",
       "      <td>234721.0</td>\n",
       "      <td>7.0</td>\n",
       "      <td>0.0</td>\n",
       "      <td>0.0</td>\n",
       "      <td>40.0</td>\n",
       "      <td>0</td>\n",
       "      <td>0</td>\n",
       "      <td>0</td>\n",
       "      <td>1</td>\n",
       "      <td>0</td>\n",
       "      <td>0</td>\n",
       "      <td>0</td>\n",
       "      <td>0</td>\n",
       "      <td>1</td>\n",
       "      <td>0</td>\n",
       "      <td>0</td>\n",
       "      <td>0</td>\n",
       "      <td>0</td>\n",
       "      <td>0</td>\n",
       "      <td>0</td>\n",
       "      <td>0</td>\n",
       "      <td>0</td>\n",
       "      <td>0</td>\n",
       "      <td>0</td>\n",
       "      <td>0</td>\n",
       "      <td>0</td>\n",
       "      <td>0</td>\n",
       "      <td>0</td>\n",
       "      <td>0</td>\n",
       "      <td>1</td>\n",
       "      <td>0</td>\n",
       "      <td>0</td>\n",
       "      <td>0</td>\n",
       "      <td>0</td>\n",
       "      <td>0</td>\n",
       "      <td>0</td>\n",
       "      <td>0</td>\n",
       "      <td>0</td>\n",
       "      <td>1</td>\n",
       "      <td>0</td>\n",
       "      <td>0</td>\n",
       "      <td>0</td>\n",
       "      <td>0</td>\n",
       "      <td>0</td>\n",
       "      <td>0</td>\n",
       "      <td>0</td>\n",
       "      <td>0</td>\n",
       "      <td>0</td>\n",
       "      <td>0</td>\n",
       "      <td>0</td>\n",
       "      <td>0</td>\n",
       "      <td>0</td>\n",
       "      <td>0</td>\n",
       "      <td>1</td>\n",
       "      <td>0</td>\n",
       "      <td>0</td>\n",
       "      <td>1</td>\n",
       "      <td>0</td>\n",
       "      <td>0</td>\n",
       "      <td>0</td>\n",
       "      <td>0</td>\n",
       "      <td>0</td>\n",
       "      <td>0</td>\n",
       "      <td>0</td>\n",
       "      <td>0</td>\n",
       "      <td>0</td>\n",
       "      <td>0</td>\n",
       "      <td>0</td>\n",
       "      <td>0</td>\n",
       "      <td>0</td>\n",
       "      <td>0</td>\n",
       "      <td>0</td>\n",
       "      <td>0</td>\n",
       "      <td>0</td>\n",
       "      <td>0</td>\n",
       "      <td>0</td>\n",
       "      <td>0</td>\n",
       "      <td>0</td>\n",
       "      <td>0</td>\n",
       "      <td>0</td>\n",
       "      <td>0</td>\n",
       "      <td>0</td>\n",
       "      <td>0</td>\n",
       "      <td>0</td>\n",
       "      <td>0</td>\n",
       "      <td>0</td>\n",
       "      <td>0</td>\n",
       "      <td>0</td>\n",
       "      <td>0</td>\n",
       "      <td>0</td>\n",
       "      <td>0</td>\n",
       "      <td>0</td>\n",
       "      <td>0</td>\n",
       "      <td>0</td>\n",
       "      <td>1</td>\n",
       "      <td>0</td>\n",
       "      <td>0</td>\n",
       "    </tr>\n",
       "    <tr>\n",
       "      <th>4</th>\n",
       "      <td>28.0</td>\n",
       "      <td>338409.0</td>\n",
       "      <td>13.0</td>\n",
       "      <td>0.0</td>\n",
       "      <td>0.0</td>\n",
       "      <td>40.0</td>\n",
       "      <td>0</td>\n",
       "      <td>0</td>\n",
       "      <td>0</td>\n",
       "      <td>1</td>\n",
       "      <td>0</td>\n",
       "      <td>0</td>\n",
       "      <td>0</td>\n",
       "      <td>0</td>\n",
       "      <td>0</td>\n",
       "      <td>0</td>\n",
       "      <td>0</td>\n",
       "      <td>0</td>\n",
       "      <td>0</td>\n",
       "      <td>0</td>\n",
       "      <td>0</td>\n",
       "      <td>0</td>\n",
       "      <td>1</td>\n",
       "      <td>0</td>\n",
       "      <td>0</td>\n",
       "      <td>0</td>\n",
       "      <td>0</td>\n",
       "      <td>0</td>\n",
       "      <td>0</td>\n",
       "      <td>0</td>\n",
       "      <td>1</td>\n",
       "      <td>0</td>\n",
       "      <td>0</td>\n",
       "      <td>0</td>\n",
       "      <td>0</td>\n",
       "      <td>0</td>\n",
       "      <td>0</td>\n",
       "      <td>0</td>\n",
       "      <td>0</td>\n",
       "      <td>0</td>\n",
       "      <td>0</td>\n",
       "      <td>0</td>\n",
       "      <td>0</td>\n",
       "      <td>1</td>\n",
       "      <td>0</td>\n",
       "      <td>0</td>\n",
       "      <td>0</td>\n",
       "      <td>0</td>\n",
       "      <td>0</td>\n",
       "      <td>0</td>\n",
       "      <td>0</td>\n",
       "      <td>0</td>\n",
       "      <td>1</td>\n",
       "      <td>0</td>\n",
       "      <td>1</td>\n",
       "      <td>0</td>\n",
       "      <td>0</td>\n",
       "      <td>0</td>\n",
       "      <td>0</td>\n",
       "      <td>0</td>\n",
       "      <td>0</td>\n",
       "      <td>1</td>\n",
       "      <td>0</td>\n",
       "      <td>0</td>\n",
       "      <td>0</td>\n",
       "      <td>0</td>\n",
       "      <td>0</td>\n",
       "      <td>0</td>\n",
       "      <td>0</td>\n",
       "      <td>0</td>\n",
       "      <td>0</td>\n",
       "      <td>0</td>\n",
       "      <td>0</td>\n",
       "      <td>0</td>\n",
       "      <td>0</td>\n",
       "      <td>0</td>\n",
       "      <td>0</td>\n",
       "      <td>0</td>\n",
       "      <td>0</td>\n",
       "      <td>0</td>\n",
       "      <td>0</td>\n",
       "      <td>0</td>\n",
       "      <td>0</td>\n",
       "      <td>0</td>\n",
       "      <td>0</td>\n",
       "      <td>0</td>\n",
       "      <td>0</td>\n",
       "      <td>0</td>\n",
       "      <td>0</td>\n",
       "      <td>0</td>\n",
       "      <td>0</td>\n",
       "      <td>0</td>\n",
       "      <td>0</td>\n",
       "      <td>0</td>\n",
       "      <td>0</td>\n",
       "      <td>0</td>\n",
       "      <td>0</td>\n",
       "      <td>0</td>\n",
       "    </tr>\n",
       "  </tbody>\n",
       "</table>\n",
       "</div>"
      ],
      "text/plain": [
       "    Age  Final_census   Education-num   capital-gain   capital-loss  \\\n",
       "0  39.0       77516.0            13.0            0.0            0.0   \n",
       "1  50.0       83311.0            13.0            0.0            0.0   \n",
       "2  38.0      215646.0             9.0            0.0            0.0   \n",
       "3  53.0      234721.0             7.0            0.0            0.0   \n",
       "4  28.0      338409.0            13.0            0.0            0.0   \n",
       "\n",
       "    hours-per-week   income  Profession Class_ Local-gov  \\\n",
       "0             40.0        0                            0   \n",
       "1             32.5        0                            0   \n",
       "2             40.0        0                            0   \n",
       "3             40.0        0                            0   \n",
       "4             40.0        0                            0   \n",
       "\n",
       "   Profession Class_ Never-worked  Profession Class_ Private  \\\n",
       "0                               0                          0   \n",
       "1                               0                          0   \n",
       "2                               0                          1   \n",
       "3                               0                          1   \n",
       "4                               0                          1   \n",
       "\n",
       "   Profession Class_ Self-emp-inc  Profession Class_ Self-emp-not-inc  \\\n",
       "0                               0                                   0   \n",
       "1                               0                                   1   \n",
       "2                               0                                   0   \n",
       "3                               0                                   0   \n",
       "4                               0                                   0   \n",
       "\n",
       "   Profession Class_ State-gov  Profession Class_ Without-pay  \\\n",
       "0                            1                              0   \n",
       "1                            0                              0   \n",
       "2                            0                              0   \n",
       "3                            0                              0   \n",
       "4                            0                              0   \n",
       "\n",
       "    Education_ 11th   Education_ 12th   Education_ 1st-4th  \\\n",
       "0                 0                 0                    0   \n",
       "1                 0                 0                    0   \n",
       "2                 0                 0                    0   \n",
       "3                 1                 0                    0   \n",
       "4                 0                 0                    0   \n",
       "\n",
       "    Education_ 5th-6th   Education_ 7th-8th   Education_ 9th  \\\n",
       "0                    0                    0                0   \n",
       "1                    0                    0                0   \n",
       "2                    0                    0                0   \n",
       "3                    0                    0                0   \n",
       "4                    0                    0                0   \n",
       "\n",
       "    Education_ Assoc-acdm   Education_ Assoc-voc   Education_ Bachelors  \\\n",
       "0                       0                      0                      1   \n",
       "1                       0                      0                      1   \n",
       "2                       0                      0                      0   \n",
       "3                       0                      0                      0   \n",
       "4                       0                      0                      1   \n",
       "\n",
       "    Education_ Doctorate   Education_ HS-grad   Education_ Masters  \\\n",
       "0                      0                    0                    0   \n",
       "1                      0                    0                    0   \n",
       "2                      0                    1                    0   \n",
       "3                      0                    0                    0   \n",
       "4                      0                    0                    0   \n",
       "\n",
       "    Education_ Preschool   Education_ Prof-school   Education_ Some-college  \\\n",
       "0                      0                        0                         0   \n",
       "1                      0                        0                         0   \n",
       "2                      0                        0                         0   \n",
       "3                      0                        0                         0   \n",
       "4                      0                        0                         0   \n",
       "\n",
       "    marital-status_ Married-AF-spouse   marital-status_ Married-civ-spouse  \\\n",
       "0                                   0                                    0   \n",
       "1                                   0                                    1   \n",
       "2                                   0                                    0   \n",
       "3                                   0                                    1   \n",
       "4                                   0                                    1   \n",
       "\n",
       "    marital-status_ Married-spouse-absent   marital-status_ Never-married  \\\n",
       "0                                       0                               1   \n",
       "1                                       0                               0   \n",
       "2                                       0                               0   \n",
       "3                                       0                               0   \n",
       "4                                       0                               0   \n",
       "\n",
       "    marital-status_ Separated   marital-status_ Widowed  \\\n",
       "0                           0                         0   \n",
       "1                           0                         0   \n",
       "2                           0                         0   \n",
       "3                           0                         0   \n",
       "4                           0                         0   \n",
       "\n",
       "    occupation_ Armed-Forces   occupation_ Craft-repair  \\\n",
       "0                          0                          0   \n",
       "1                          0                          0   \n",
       "2                          0                          0   \n",
       "3                          0                          0   \n",
       "4                          0                          0   \n",
       "\n",
       "    occupation_ Exec-managerial   occupation_ Farming-fishing  \\\n",
       "0                             0                             0   \n",
       "1                             1                             0   \n",
       "2                             0                             0   \n",
       "3                             0                             0   \n",
       "4                             0                             0   \n",
       "\n",
       "    occupation_ Handlers-cleaners   occupation_ Machine-op-inspct  \\\n",
       "0                               0                               0   \n",
       "1                               0                               0   \n",
       "2                               1                               0   \n",
       "3                               1                               0   \n",
       "4                               0                               0   \n",
       "\n",
       "    occupation_ Other-service   occupation_ Priv-house-serv  \\\n",
       "0                           0                             0   \n",
       "1                           0                             0   \n",
       "2                           0                             0   \n",
       "3                           0                             0   \n",
       "4                           0                             0   \n",
       "\n",
       "    occupation_ Prof-specialty   occupation_ Protective-serv  \\\n",
       "0                            0                             0   \n",
       "1                            0                             0   \n",
       "2                            0                             0   \n",
       "3                            0                             0   \n",
       "4                            1                             0   \n",
       "\n",
       "    occupation_ Sales   occupation_ Tech-support  \\\n",
       "0                   0                          0   \n",
       "1                   0                          0   \n",
       "2                   0                          0   \n",
       "3                   0                          0   \n",
       "4                   0                          0   \n",
       "\n",
       "    occupation_ Transport-moving   relationship_ Not-in-family  \\\n",
       "0                              0                             1   \n",
       "1                              0                             0   \n",
       "2                              0                             1   \n",
       "3                              0                             0   \n",
       "4                              0                             0   \n",
       "\n",
       "    relationship_ Other-relative   relationship_ Own-child  \\\n",
       "0                              0                         0   \n",
       "1                              0                         0   \n",
       "2                              0                         0   \n",
       "3                              0                         0   \n",
       "4                              0                         0   \n",
       "\n",
       "    relationship_ Unmarried   relationship_ Wife   race_ Asian-Pac-Islander  \\\n",
       "0                         0                    0                          0   \n",
       "1                         0                    0                          0   \n",
       "2                         0                    0                          0   \n",
       "3                         0                    0                          0   \n",
       "4                         0                    1                          0   \n",
       "\n",
       "    race_ Black   race_ Other   race_ White  Gender_ Male   country_ Canada  \\\n",
       "0             0             0             1             1                 0   \n",
       "1             0             0             1             1                 0   \n",
       "2             0             0             1             1                 0   \n",
       "3             1             0             0             1                 0   \n",
       "4             1             0             0             0                 0   \n",
       "\n",
       "    country_ China   country_ Columbia   country_ Cuba  \\\n",
       "0                0                   0               0   \n",
       "1                0                   0               0   \n",
       "2                0                   0               0   \n",
       "3                0                   0               0   \n",
       "4                0                   0               1   \n",
       "\n",
       "    country_ Dominican-Republic   country_ Ecuador   country_ El-Salvador  \\\n",
       "0                             0                  0                      0   \n",
       "1                             0                  0                      0   \n",
       "2                             0                  0                      0   \n",
       "3                             0                  0                      0   \n",
       "4                             0                  0                      0   \n",
       "\n",
       "    country_ England   country_ France   country_ Germany   country_ Greece  \\\n",
       "0                  0                 0                  0                 0   \n",
       "1                  0                 0                  0                 0   \n",
       "2                  0                 0                  0                 0   \n",
       "3                  0                 0                  0                 0   \n",
       "4                  0                 0                  0                 0   \n",
       "\n",
       "    country_ Guatemala   country_ Haiti   country_ Holand-Netherlands  \\\n",
       "0                    0                0                             0   \n",
       "1                    0                0                             0   \n",
       "2                    0                0                             0   \n",
       "3                    0                0                             0   \n",
       "4                    0                0                             0   \n",
       "\n",
       "    country_ Honduras   country_ Hong   country_ Hungary   country_ India  \\\n",
       "0                   0               0                  0                0   \n",
       "1                   0               0                  0                0   \n",
       "2                   0               0                  0                0   \n",
       "3                   0               0                  0                0   \n",
       "4                   0               0                  0                0   \n",
       "\n",
       "    country_ Iran   country_ Ireland   country_ Italy   country_ Jamaica  \\\n",
       "0               0                  0                0                  0   \n",
       "1               0                  0                0                  0   \n",
       "2               0                  0                0                  0   \n",
       "3               0                  0                0                  0   \n",
       "4               0                  0                0                  0   \n",
       "\n",
       "    country_ Japan   country_ Laos   country_ Mexico   country_ Nicaragua  \\\n",
       "0                0               0                 0                    0   \n",
       "1                0               0                 0                    0   \n",
       "2                0               0                 0                    0   \n",
       "3                0               0                 0                    0   \n",
       "4                0               0                 0                    0   \n",
       "\n",
       "    country_ Outlying-US(Guam-USVI-etc)   country_ Peru  \\\n",
       "0                                     0               0   \n",
       "1                                     0               0   \n",
       "2                                     0               0   \n",
       "3                                     0               0   \n",
       "4                                     0               0   \n",
       "\n",
       "    country_ Philippines   country_ Poland   country_ Portugal  \\\n",
       "0                      0                 0                   0   \n",
       "1                      0                 0                   0   \n",
       "2                      0                 0                   0   \n",
       "3                      0                 0                   0   \n",
       "4                      0                 0                   0   \n",
       "\n",
       "    country_ Puerto-Rico   country_ Scotland   country_ South  \\\n",
       "0                      0                   0                0   \n",
       "1                      0                   0                0   \n",
       "2                      0                   0                0   \n",
       "3                      0                   0                0   \n",
       "4                      0                   0                0   \n",
       "\n",
       "    country_ Taiwan   country_ Thailand   country_ Trinadad&Tobago  \\\n",
       "0                 0                   0                          0   \n",
       "1                 0                   0                          0   \n",
       "2                 0                   0                          0   \n",
       "3                 0                   0                          0   \n",
       "4                 0                   0                          0   \n",
       "\n",
       "    country_ United-States   country_ Vietnam   country_ Yugoslavia  \n",
       "0                        1                  0                     0  \n",
       "1                        1                  0                     0  \n",
       "2                        1                  0                     0  \n",
       "3                        1                  0                     0  \n",
       "4                        0                  0                     0  "
      ]
     },
     "execution_count": 91,
     "metadata": {},
     "output_type": "execute_result"
    }
   ],
   "source": [
    "data.head()"
   ]
  },
  {
   "cell_type": "markdown",
   "id": "cfc92daa",
   "metadata": {},
   "source": [
    "Checking for multicolinearity"
   ]
  },
  {
   "cell_type": "code",
   "execution_count": 92,
   "id": "950e542b",
   "metadata": {},
   "outputs": [],
   "source": [
    "data1 = data.copy()"
   ]
  },
  {
   "cell_type": "code",
   "execution_count": 99,
   "id": "997e4f40",
   "metadata": {},
   "outputs": [],
   "source": [
    "corr_mat = data1.corr(method=\"spearman\")\n",
    "upper_mat=corr_mat.where(np.triu(np.ones(corr_mat.shape),k=1).astype(bool))"
   ]
  },
  {
   "cell_type": "code",
   "execution_count": 102,
   "id": "1bc04608",
   "metadata": {},
   "outputs": [
    {
     "data": {
      "image/png": "[encoded data removed]",
      "text/plain": [
       "<Figure size 1800x1800 with 2 Axes>"
      ]
     },
     "metadata": {
      "needs_background": "light"
     },
     "output_type": "display_data"
    }
   ],
   "source": [
    "plt.figure(figsize=(25,25))\n",
    "sns.heatmap(upper_mat,cmap='Blues')\n",
    "plt.show()"
   ]
  },
  {
   "cell_type": "code",
   "execution_count": 103,
   "id": "fb171fef",
   "metadata": {},
   "outputs": [],
   "source": [
    "high_positive_corr = [i for i in upper_mat.columns if any(upper_mat[i]>0.8)]\n",
    "high_negative_corr = [j for j in upper_mat.columns if any(upper_mat[j]<-0.8)]"
   ]
  },
  {
   "cell_type": "code",
   "execution_count": 104,
   "id": "51ed5b21",
   "metadata": {},
   "outputs": [
    {
     "data": {
      "text/plain": [
       "[]"
      ]
     },
     "execution_count": 104,
     "metadata": {},
     "output_type": "execute_result"
    }
   ],
   "source": [
    "High_corr = high_negative_corr+high_positive_corr\n",
    "High_corr"
   ]
  },
  {
   "cell_type": "markdown",
   "id": "009f0666",
   "metadata": {},
   "source": [
    "We dont have any columns with high correlation"
   ]
  },
  {
   "cell_type": "markdown",
   "id": "1bb5019f",
   "metadata": {},
   "source": []
  },
  {
   "cell_type": "markdown",
   "id": "1257a019",
   "metadata": {},
   "source": [
    "Dependent and Independent"
   ]
  },
  {
   "cell_type": "code",
   "execution_count": 14,
   "id": "58330513",
   "metadata": {},
   "outputs": [],
   "source": [
    "X = data.drop([' income'],axis=1)\n",
    "Y = data[' income']"
   ]
  },
  {
   "cell_type": "markdown",
   "id": "2c48e36d",
   "metadata": {},
   "source": []
  },
  {
   "cell_type": "markdown",
   "id": "52697d54",
   "metadata": {},
   "source": [
    " Feature Selection"
   ]
  },
  {
   "cell_type": "code",
   "execution_count": 11,
   "id": "b1506fc9",
   "metadata": {},
   "outputs": [],
   "source": [
    "from sklearn.feature_selection import SelectKBest,mutual_info_classif"
   ]
  },
  {
   "cell_type": "code",
   "execution_count": 12,
   "id": "00a9a23b",
   "metadata": {},
   "outputs": [],
   "source": [
    "feature_kbest = SelectKBest(score_func=mutual_info_classif)"
   ]
  },
  {
   "cell_type": "code",
   "execution_count": 15,
   "id": "b1c48653",
   "metadata": {},
   "outputs": [
    {
     "data": {
      "text/plain": [
       "SelectKBest(score_func=<function mutual_info_classif at 0x000002328EB054C0>)"
      ]
     },
     "execution_count": 15,
     "metadata": {},
     "output_type": "execute_result"
    }
   ],
   "source": [
    "feature_kbest.fit(X,Y)"
   ]
  },
  {
   "cell_type": "code",
   "execution_count": 16,
   "id": "79491485",
   "metadata": {},
   "outputs": [],
   "source": [
    "Feature_score = pd.DataFrame()"
   ]
  },
  {
   "cell_type": "code",
   "execution_count": 17,
   "id": "067dec77",
   "metadata": {},
   "outputs": [],
   "source": [
    "Feature_score[\"Column\"] = X.columns\n",
    "Feature_score[\"Mutual_Score\"] = feature_kbest.scores_"
   ]
  },
  {
   "cell_type": "code",
   "execution_count": 18,
   "id": "d680b048",
   "metadata": {},
   "outputs": [
    {
     "data": {
      "text/html": [
       "<div>\n",
       "<style scoped>\n",
       "    .dataframe tbody tr th:only-of-type {\n",
       "        vertical-align: middle;\n",
       "    }\n",
       "\n",
       "    .dataframe tbody tr th {\n",
       "        vertical-align: top;\n",
       "    }\n",
       "\n",
       "    .dataframe thead th {\n",
       "        text-align: right;\n",
       "    }\n",
       "</style>\n",
       "<table border=\"1\" class=\"dataframe\">\n",
       "  <thead>\n",
       "    <tr style=\"text-align: right;\">\n",
       "      <th></th>\n",
       "      <th>Column</th>\n",
       "      <th>Mutual_Score</th>\n",
       "    </tr>\n",
       "  </thead>\n",
       "  <tbody>\n",
       "    <tr>\n",
       "      <th>0</th>\n",
       "      <td>marital-status_ Married-civ-spouse</td>\n",
       "      <td>0.104781</td>\n",
       "    </tr>\n",
       "    <tr>\n",
       "      <th>1</th>\n",
       "      <td>capital-gain</td>\n",
       "      <td>0.083389</td>\n",
       "    </tr>\n",
       "    <tr>\n",
       "      <th>2</th>\n",
       "      <td>Age</td>\n",
       "      <td>0.066785</td>\n",
       "    </tr>\n",
       "    <tr>\n",
       "      <th>3</th>\n",
       "      <td>marital-status_ Never-married</td>\n",
       "      <td>0.062997</td>\n",
       "    </tr>\n",
       "    <tr>\n",
       "      <th>4</th>\n",
       "      <td>Education-num</td>\n",
       "      <td>0.062062</td>\n",
       "    </tr>\n",
       "    <tr>\n",
       "      <th>5</th>\n",
       "      <td>hours-per-week</td>\n",
       "      <td>0.041820</td>\n",
       "    </tr>\n",
       "    <tr>\n",
       "      <th>6</th>\n",
       "      <td>relationship_ Own-child</td>\n",
       "      <td>0.040401</td>\n",
       "    </tr>\n",
       "    <tr>\n",
       "      <th>7</th>\n",
       "      <td>Final_census</td>\n",
       "      <td>0.033142</td>\n",
       "    </tr>\n",
       "    <tr>\n",
       "      <th>8</th>\n",
       "      <td>capital-loss</td>\n",
       "      <td>0.032945</td>\n",
       "    </tr>\n",
       "    <tr>\n",
       "      <th>9</th>\n",
       "      <td>Gender_ Male</td>\n",
       "      <td>0.025428</td>\n",
       "    </tr>\n",
       "    <tr>\n",
       "      <th>10</th>\n",
       "      <td>occupation_ Exec-managerial</td>\n",
       "      <td>0.023283</td>\n",
       "    </tr>\n",
       "    <tr>\n",
       "      <th>11</th>\n",
       "      <td>relationship_ Not-in-family</td>\n",
       "      <td>0.019826</td>\n",
       "    </tr>\n",
       "    <tr>\n",
       "      <th>12</th>\n",
       "      <td>occupation_ Other-service</td>\n",
       "      <td>0.017390</td>\n",
       "    </tr>\n",
       "    <tr>\n",
       "      <th>13</th>\n",
       "      <td>Education_ Masters</td>\n",
       "      <td>0.015257</td>\n",
       "    </tr>\n",
       "    <tr>\n",
       "      <th>14</th>\n",
       "      <td>Education_ Bachelors</td>\n",
       "      <td>0.014668</td>\n",
       "    </tr>\n",
       "    <tr>\n",
       "      <th>15</th>\n",
       "      <td>relationship_ Unmarried</td>\n",
       "      <td>0.014238</td>\n",
       "    </tr>\n",
       "    <tr>\n",
       "      <th>16</th>\n",
       "      <td>Education_ Prof-school</td>\n",
       "      <td>0.009488</td>\n",
       "    </tr>\n",
       "    <tr>\n",
       "      <th>17</th>\n",
       "      <td>Profession Class_ Private</td>\n",
       "      <td>0.009281</td>\n",
       "    </tr>\n",
       "    <tr>\n",
       "      <th>18</th>\n",
       "      <td>Profession Class_ Self-emp-inc</td>\n",
       "      <td>0.008270</td>\n",
       "    </tr>\n",
       "    <tr>\n",
       "      <th>19</th>\n",
       "      <td>race_ Black</td>\n",
       "      <td>0.007783</td>\n",
       "    </tr>\n",
       "    <tr>\n",
       "      <th>20</th>\n",
       "      <td>race_ White</td>\n",
       "      <td>0.007279</td>\n",
       "    </tr>\n",
       "    <tr>\n",
       "      <th>21</th>\n",
       "      <td>Education_ 11th</td>\n",
       "      <td>0.006807</td>\n",
       "    </tr>\n",
       "    <tr>\n",
       "      <th>22</th>\n",
       "      <td>relationship_ Wife</td>\n",
       "      <td>0.006518</td>\n",
       "    </tr>\n",
       "    <tr>\n",
       "      <th>23</th>\n",
       "      <td>country_ Mexico</td>\n",
       "      <td>0.006347</td>\n",
       "    </tr>\n",
       "    <tr>\n",
       "      <th>24</th>\n",
       "      <td>Education_ Some-college</td>\n",
       "      <td>0.006134</td>\n",
       "    </tr>\n",
       "    <tr>\n",
       "      <th>25</th>\n",
       "      <td>relationship_ Other-relative</td>\n",
       "      <td>0.005834</td>\n",
       "    </tr>\n",
       "    <tr>\n",
       "      <th>26</th>\n",
       "      <td>Education_ Doctorate</td>\n",
       "      <td>0.005771</td>\n",
       "    </tr>\n",
       "    <tr>\n",
       "      <th>27</th>\n",
       "      <td>country_ France</td>\n",
       "      <td>0.005473</td>\n",
       "    </tr>\n",
       "    <tr>\n",
       "      <th>28</th>\n",
       "      <td>Education_ HS-grad</td>\n",
       "      <td>0.005201</td>\n",
       "    </tr>\n",
       "    <tr>\n",
       "      <th>29</th>\n",
       "      <td>marital-status_ Separated</td>\n",
       "      <td>0.005027</td>\n",
       "    </tr>\n",
       "    <tr>\n",
       "      <th>30</th>\n",
       "      <td>Education_ 1st-4th</td>\n",
       "      <td>0.004894</td>\n",
       "    </tr>\n",
       "    <tr>\n",
       "      <th>31</th>\n",
       "      <td>occupation_ Prof-specialty</td>\n",
       "      <td>0.004661</td>\n",
       "    </tr>\n",
       "    <tr>\n",
       "      <th>32</th>\n",
       "      <td>Education_ Preschool</td>\n",
       "      <td>0.004587</td>\n",
       "    </tr>\n",
       "    <tr>\n",
       "      <th>33</th>\n",
       "      <td>country_ United-States</td>\n",
       "      <td>0.004502</td>\n",
       "    </tr>\n",
       "    <tr>\n",
       "      <th>34</th>\n",
       "      <td>Education_ 12th</td>\n",
       "      <td>0.003797</td>\n",
       "    </tr>\n",
       "    <tr>\n",
       "      <th>35</th>\n",
       "      <td>Education_ 5th-6th</td>\n",
       "      <td>0.003673</td>\n",
       "    </tr>\n",
       "    <tr>\n",
       "      <th>36</th>\n",
       "      <td>Education_ 9th</td>\n",
       "      <td>0.003521</td>\n",
       "    </tr>\n",
       "    <tr>\n",
       "      <th>37</th>\n",
       "      <td>occupation_ Machine-op-inspct</td>\n",
       "      <td>0.003472</td>\n",
       "    </tr>\n",
       "    <tr>\n",
       "      <th>38</th>\n",
       "      <td>country_ Japan</td>\n",
       "      <td>0.003361</td>\n",
       "    </tr>\n",
       "    <tr>\n",
       "      <th>39</th>\n",
       "      <td>marital-status_ Widowed</td>\n",
       "      <td>0.003264</td>\n",
       "    </tr>\n",
       "    <tr>\n",
       "      <th>40</th>\n",
       "      <td>occupation_ Farming-fishing</td>\n",
       "      <td>0.003121</td>\n",
       "    </tr>\n",
       "    <tr>\n",
       "      <th>41</th>\n",
       "      <td>occupation_ Transport-moving</td>\n",
       "      <td>0.002920</td>\n",
       "    </tr>\n",
       "    <tr>\n",
       "      <th>42</th>\n",
       "      <td>country_ Guatemala</td>\n",
       "      <td>0.002912</td>\n",
       "    </tr>\n",
       "    <tr>\n",
       "      <th>43</th>\n",
       "      <td>occupation_ Handlers-cleaners</td>\n",
       "      <td>0.002718</td>\n",
       "    </tr>\n",
       "    <tr>\n",
       "      <th>44</th>\n",
       "      <td>country_ Puerto-Rico</td>\n",
       "      <td>0.002630</td>\n",
       "    </tr>\n",
       "    <tr>\n",
       "      <th>45</th>\n",
       "      <td>country_ Columbia</td>\n",
       "      <td>0.002554</td>\n",
       "    </tr>\n",
       "    <tr>\n",
       "      <th>46</th>\n",
       "      <td>Education_ 7th-8th</td>\n",
       "      <td>0.002467</td>\n",
       "    </tr>\n",
       "    <tr>\n",
       "      <th>47</th>\n",
       "      <td>occupation_ Priv-house-serv</td>\n",
       "      <td>0.002241</td>\n",
       "    </tr>\n",
       "    <tr>\n",
       "      <th>48</th>\n",
       "      <td>occupation_ Protective-serv</td>\n",
       "      <td>0.002038</td>\n",
       "    </tr>\n",
       "    <tr>\n",
       "      <th>49</th>\n",
       "      <td>country_ Vietnam</td>\n",
       "      <td>0.002037</td>\n",
       "    </tr>\n",
       "    <tr>\n",
       "      <th>50</th>\n",
       "      <td>country_ China</td>\n",
       "      <td>0.001867</td>\n",
       "    </tr>\n",
       "    <tr>\n",
       "      <th>51</th>\n",
       "      <td>country_ Italy</td>\n",
       "      <td>0.001815</td>\n",
       "    </tr>\n",
       "    <tr>\n",
       "      <th>52</th>\n",
       "      <td>country_ Scotland</td>\n",
       "      <td>0.001808</td>\n",
       "    </tr>\n",
       "    <tr>\n",
       "      <th>53</th>\n",
       "      <td>country_ Jamaica</td>\n",
       "      <td>0.001787</td>\n",
       "    </tr>\n",
       "    <tr>\n",
       "      <th>54</th>\n",
       "      <td>Profession Class_ Never-worked</td>\n",
       "      <td>0.001435</td>\n",
       "    </tr>\n",
       "    <tr>\n",
       "      <th>55</th>\n",
       "      <td>country_ India</td>\n",
       "      <td>0.001393</td>\n",
       "    </tr>\n",
       "    <tr>\n",
       "      <th>56</th>\n",
       "      <td>Profession Class_ Self-emp-not-inc</td>\n",
       "      <td>0.001293</td>\n",
       "    </tr>\n",
       "    <tr>\n",
       "      <th>57</th>\n",
       "      <td>Education_ Assoc-voc</td>\n",
       "      <td>0.001089</td>\n",
       "    </tr>\n",
       "    <tr>\n",
       "      <th>58</th>\n",
       "      <td>country_ Taiwan</td>\n",
       "      <td>0.001030</td>\n",
       "    </tr>\n",
       "    <tr>\n",
       "      <th>59</th>\n",
       "      <td>country_ Thailand</td>\n",
       "      <td>0.001003</td>\n",
       "    </tr>\n",
       "    <tr>\n",
       "      <th>60</th>\n",
       "      <td>occupation_ Tech-support</td>\n",
       "      <td>0.000804</td>\n",
       "    </tr>\n",
       "    <tr>\n",
       "      <th>61</th>\n",
       "      <td>country_ Laos</td>\n",
       "      <td>0.000596</td>\n",
       "    </tr>\n",
       "    <tr>\n",
       "      <th>62</th>\n",
       "      <td>Profession Class_ Local-gov</td>\n",
       "      <td>0.000596</td>\n",
       "    </tr>\n",
       "    <tr>\n",
       "      <th>63</th>\n",
       "      <td>country_ Iran</td>\n",
       "      <td>0.000533</td>\n",
       "    </tr>\n",
       "    <tr>\n",
       "      <th>64</th>\n",
       "      <td>country_ Philippines</td>\n",
       "      <td>0.000429</td>\n",
       "    </tr>\n",
       "    <tr>\n",
       "      <th>65</th>\n",
       "      <td>country_ Poland</td>\n",
       "      <td>0.000387</td>\n",
       "    </tr>\n",
       "    <tr>\n",
       "      <th>66</th>\n",
       "      <td>country_ Greece</td>\n",
       "      <td>0.000129</td>\n",
       "    </tr>\n",
       "    <tr>\n",
       "      <th>67</th>\n",
       "      <td>country_ Nicaragua</td>\n",
       "      <td>0.000000</td>\n",
       "    </tr>\n",
       "    <tr>\n",
       "      <th>68</th>\n",
       "      <td>country_ Outlying-US(Guam-USVI-etc)</td>\n",
       "      <td>0.000000</td>\n",
       "    </tr>\n",
       "    <tr>\n",
       "      <th>69</th>\n",
       "      <td>country_ Peru</td>\n",
       "      <td>0.000000</td>\n",
       "    </tr>\n",
       "    <tr>\n",
       "      <th>70</th>\n",
       "      <td>country_ Portugal</td>\n",
       "      <td>0.000000</td>\n",
       "    </tr>\n",
       "    <tr>\n",
       "      <th>71</th>\n",
       "      <td>country_ South</td>\n",
       "      <td>0.000000</td>\n",
       "    </tr>\n",
       "    <tr>\n",
       "      <th>72</th>\n",
       "      <td>country_ Trinadad&amp;Tobago</td>\n",
       "      <td>0.000000</td>\n",
       "    </tr>\n",
       "    <tr>\n",
       "      <th>73</th>\n",
       "      <td>country_ Ireland</td>\n",
       "      <td>0.000000</td>\n",
       "    </tr>\n",
       "    <tr>\n",
       "      <th>74</th>\n",
       "      <td>country_ Dominican-Republic</td>\n",
       "      <td>0.000000</td>\n",
       "    </tr>\n",
       "    <tr>\n",
       "      <th>75</th>\n",
       "      <td>country_ Hungary</td>\n",
       "      <td>0.000000</td>\n",
       "    </tr>\n",
       "    <tr>\n",
       "      <th>76</th>\n",
       "      <td>country_ Hong</td>\n",
       "      <td>0.000000</td>\n",
       "    </tr>\n",
       "    <tr>\n",
       "      <th>77</th>\n",
       "      <td>marital-status_ Married-AF-spouse</td>\n",
       "      <td>0.000000</td>\n",
       "    </tr>\n",
       "    <tr>\n",
       "      <th>78</th>\n",
       "      <td>marital-status_ Married-spouse-absent</td>\n",
       "      <td>0.000000</td>\n",
       "    </tr>\n",
       "    <tr>\n",
       "      <th>79</th>\n",
       "      <td>occupation_ Armed-Forces</td>\n",
       "      <td>0.000000</td>\n",
       "    </tr>\n",
       "    <tr>\n",
       "      <th>80</th>\n",
       "      <td>occupation_ Craft-repair</td>\n",
       "      <td>0.000000</td>\n",
       "    </tr>\n",
       "    <tr>\n",
       "      <th>81</th>\n",
       "      <td>Education_ Assoc-acdm</td>\n",
       "      <td>0.000000</td>\n",
       "    </tr>\n",
       "    <tr>\n",
       "      <th>82</th>\n",
       "      <td>occupation_ Sales</td>\n",
       "      <td>0.000000</td>\n",
       "    </tr>\n",
       "    <tr>\n",
       "      <th>83</th>\n",
       "      <td>Profession Class_ Without-pay</td>\n",
       "      <td>0.000000</td>\n",
       "    </tr>\n",
       "    <tr>\n",
       "      <th>84</th>\n",
       "      <td>race_ Asian-Pac-Islander</td>\n",
       "      <td>0.000000</td>\n",
       "    </tr>\n",
       "    <tr>\n",
       "      <th>85</th>\n",
       "      <td>Profession Class_ State-gov</td>\n",
       "      <td>0.000000</td>\n",
       "    </tr>\n",
       "    <tr>\n",
       "      <th>86</th>\n",
       "      <td>race_ Other</td>\n",
       "      <td>0.000000</td>\n",
       "    </tr>\n",
       "    <tr>\n",
       "      <th>87</th>\n",
       "      <td>country_ Canada</td>\n",
       "      <td>0.000000</td>\n",
       "    </tr>\n",
       "    <tr>\n",
       "      <th>88</th>\n",
       "      <td>country_ Cuba</td>\n",
       "      <td>0.000000</td>\n",
       "    </tr>\n",
       "    <tr>\n",
       "      <th>89</th>\n",
       "      <td>country_ Ecuador</td>\n",
       "      <td>0.000000</td>\n",
       "    </tr>\n",
       "    <tr>\n",
       "      <th>90</th>\n",
       "      <td>country_ El-Salvador</td>\n",
       "      <td>0.000000</td>\n",
       "    </tr>\n",
       "    <tr>\n",
       "      <th>91</th>\n",
       "      <td>country_ England</td>\n",
       "      <td>0.000000</td>\n",
       "    </tr>\n",
       "    <tr>\n",
       "      <th>92</th>\n",
       "      <td>country_ Germany</td>\n",
       "      <td>0.000000</td>\n",
       "    </tr>\n",
       "    <tr>\n",
       "      <th>93</th>\n",
       "      <td>country_ Haiti</td>\n",
       "      <td>0.000000</td>\n",
       "    </tr>\n",
       "    <tr>\n",
       "      <th>94</th>\n",
       "      <td>country_ Holand-Netherlands</td>\n",
       "      <td>0.000000</td>\n",
       "    </tr>\n",
       "    <tr>\n",
       "      <th>95</th>\n",
       "      <td>country_ Honduras</td>\n",
       "      <td>0.000000</td>\n",
       "    </tr>\n",
       "    <tr>\n",
       "      <th>96</th>\n",
       "      <td>country_ Yugoslavia</td>\n",
       "      <td>0.000000</td>\n",
       "    </tr>\n",
       "  </tbody>\n",
       "</table>\n",
       "</div>"
      ],
      "text/plain": [
       "                                    Column  Mutual_Score\n",
       "0       marital-status_ Married-civ-spouse      0.104781\n",
       "1                             capital-gain      0.083389\n",
       "2                                      Age      0.066785\n",
       "3            marital-status_ Never-married      0.062997\n",
       "4                            Education-num      0.062062\n",
       "5                           hours-per-week      0.041820\n",
       "6                  relationship_ Own-child      0.040401\n",
       "7                             Final_census      0.033142\n",
       "8                             capital-loss      0.032945\n",
       "9                             Gender_ Male      0.025428\n",
       "10             occupation_ Exec-managerial      0.023283\n",
       "11             relationship_ Not-in-family      0.019826\n",
       "12               occupation_ Other-service      0.017390\n",
       "13                      Education_ Masters      0.015257\n",
       "14                    Education_ Bachelors      0.014668\n",
       "15                 relationship_ Unmarried      0.014238\n",
       "16                  Education_ Prof-school      0.009488\n",
       "17               Profession Class_ Private      0.009281\n",
       "18          Profession Class_ Self-emp-inc      0.008270\n",
       "19                             race_ Black      0.007783\n",
       "20                             race_ White      0.007279\n",
       "21                         Education_ 11th      0.006807\n",
       "22                      relationship_ Wife      0.006518\n",
       "23                         country_ Mexico      0.006347\n",
       "24                 Education_ Some-college      0.006134\n",
       "25            relationship_ Other-relative      0.005834\n",
       "26                    Education_ Doctorate      0.005771\n",
       "27                         country_ France      0.005473\n",
       "28                      Education_ HS-grad      0.005201\n",
       "29               marital-status_ Separated      0.005027\n",
       "30                      Education_ 1st-4th      0.004894\n",
       "31              occupation_ Prof-specialty      0.004661\n",
       "32                    Education_ Preschool      0.004587\n",
       "33                  country_ United-States      0.004502\n",
       "34                         Education_ 12th      0.003797\n",
       "35                      Education_ 5th-6th      0.003673\n",
       "36                          Education_ 9th      0.003521\n",
       "37           occupation_ Machine-op-inspct      0.003472\n",
       "38                          country_ Japan      0.003361\n",
       "39                 marital-status_ Widowed      0.003264\n",
       "40             occupation_ Farming-fishing      0.003121\n",
       "41            occupation_ Transport-moving      0.002920\n",
       "42                      country_ Guatemala      0.002912\n",
       "43           occupation_ Handlers-cleaners      0.002718\n",
       "44                    country_ Puerto-Rico      0.002630\n",
       "45                       country_ Columbia      0.002554\n",
       "46                      Education_ 7th-8th      0.002467\n",
       "47             occupation_ Priv-house-serv      0.002241\n",
       "48             occupation_ Protective-serv      0.002038\n",
       "49                        country_ Vietnam      0.002037\n",
       "50                          country_ China      0.001867\n",
       "51                          country_ Italy      0.001815\n",
       "52                       country_ Scotland      0.001808\n",
       "53                        country_ Jamaica      0.001787\n",
       "54          Profession Class_ Never-worked      0.001435\n",
       "55                          country_ India      0.001393\n",
       "56      Profession Class_ Self-emp-not-inc      0.001293\n",
       "57                    Education_ Assoc-voc      0.001089\n",
       "58                         country_ Taiwan      0.001030\n",
       "59                       country_ Thailand      0.001003\n",
       "60                occupation_ Tech-support      0.000804\n",
       "61                           country_ Laos      0.000596\n",
       "62             Profession Class_ Local-gov      0.000596\n",
       "63                           country_ Iran      0.000533\n",
       "64                    country_ Philippines      0.000429\n",
       "65                         country_ Poland      0.000387\n",
       "66                         country_ Greece      0.000129\n",
       "67                      country_ Nicaragua      0.000000\n",
       "68     country_ Outlying-US(Guam-USVI-etc)      0.000000\n",
       "69                           country_ Peru      0.000000\n",
       "70                       country_ Portugal      0.000000\n",
       "71                          country_ South      0.000000\n",
       "72                country_ Trinadad&Tobago      0.000000\n",
       "73                        country_ Ireland      0.000000\n",
       "74             country_ Dominican-Republic      0.000000\n",
       "75                        country_ Hungary      0.000000\n",
       "76                           country_ Hong      0.000000\n",
       "77       marital-status_ Married-AF-spouse      0.000000\n",
       "78   marital-status_ Married-spouse-absent      0.000000\n",
       "79                occupation_ Armed-Forces      0.000000\n",
       "80                occupation_ Craft-repair      0.000000\n",
       "81                   Education_ Assoc-acdm      0.000000\n",
       "82                       occupation_ Sales      0.000000\n",
       "83           Profession Class_ Without-pay      0.000000\n",
       "84                race_ Asian-Pac-Islander      0.000000\n",
       "85             Profession Class_ State-gov      0.000000\n",
       "86                             race_ Other      0.000000\n",
       "87                         country_ Canada      0.000000\n",
       "88                           country_ Cuba      0.000000\n",
       "89                        country_ Ecuador      0.000000\n",
       "90                    country_ El-Salvador      0.000000\n",
       "91                        country_ England      0.000000\n",
       "92                        country_ Germany      0.000000\n",
       "93                          country_ Haiti      0.000000\n",
       "94             country_ Holand-Netherlands      0.000000\n",
       "95                       country_ Honduras      0.000000\n",
       "96                     country_ Yugoslavia      0.000000"
      ]
     },
     "execution_count": 18,
     "metadata": {},
     "output_type": "execute_result"
    }
   ],
   "source": [
    "Feature_Sorted = Feature_score.sort_values(by='Mutual_Score',ascending=False,ignore_index=True)\n",
    "Feature_Sorted"
   ]
  },
  {
   "cell_type": "code",
   "execution_count": 19,
   "id": "f6d153d1",
   "metadata": {},
   "outputs": [],
   "source": [
    "Percentage = [(i/sum(Feature_Sorted['Mutual_Score']))*100 for i in Feature_Sorted['Mutual_Score']]\n",
    "cList = []\n",
    "a= 0\n",
    "for i in Percentage:\n",
    "    cList.append(a+i)\n",
    "    a=a+i"
   ]
  },
  {
   "cell_type": "code",
   "execution_count": 20,
   "id": "253e8d6a",
   "metadata": {},
   "outputs": [
    {
     "data": {
      "image/png": "[encoded data removed]",
      "text/plain": [
       "<Figure size 864x360 with 1 Axes>"
      ]
     },
     "metadata": {
      "needs_background": "light"
     },
     "output_type": "display_data"
    }
   ],
   "source": [
    "plt.figure(figsize=(12,5))\n",
    "graph = sns.lineplot(range(1,98),cList)\n",
    "graph.axvline(66,ls=\"--\",color='r')\n",
    "plt.title(\"Feature Selection - SelectKbest\",color='r')\n",
    "plt.xlabel('Number of features')\n",
    "plt.show()"
   ]
  },
  {
   "cell_type": "markdown",
   "id": "11d94982",
   "metadata": {},
   "source": [
    " We can see that **Top 66 fields** have some amount of mutual scores rather than Zero(Approx).\n",
    "    So we can chose those field alone for our model."
   ]
  },
  {
   "cell_type": "code",
   "execution_count": 21,
   "id": "603a86ff",
   "metadata": {},
   "outputs": [],
   "source": [
    "Unwanted_Features = list(Feature_Sorted['Column'][67:])"
   ]
  },
  {
   "cell_type": "code",
   "execution_count": 22,
   "id": "137d14bc",
   "metadata": {},
   "outputs": [],
   "source": [
    "X_feature = X.copy()"
   ]
  },
  {
   "cell_type": "code",
   "execution_count": 23,
   "id": "85f7e27a",
   "metadata": {},
   "outputs": [],
   "source": [
    "X_feature.drop(columns=Unwanted_Features,axis=1,inplace=True)"
   ]
  },
  {
   "cell_type": "code",
   "execution_count": 24,
   "id": "efea1444",
   "metadata": {},
   "outputs": [
    {
     "data": {
      "text/plain": [
       "(32561, 67)"
      ]
     },
     "execution_count": 24,
     "metadata": {},
     "output_type": "execute_result"
    }
   ],
   "source": [
    "X_feature.shape"
   ]
  },
  {
   "cell_type": "code",
   "execution_count": null,
   "id": "4b548b23",
   "metadata": {},
   "outputs": [],
   "source": []
  },
  {
   "cell_type": "markdown",
   "id": "0e50d9e0",
   "metadata": {},
   "source": [
    "Train Test Split"
   ]
  },
  {
   "cell_type": "code",
   "execution_count": 25,
   "id": "ee7e98cf",
   "metadata": {},
   "outputs": [],
   "source": [
    "from sklearn.model_selection import train_test_split"
   ]
  },
  {
   "cell_type": "code",
   "execution_count": 26,
   "id": "4d8eb7a4",
   "metadata": {},
   "outputs": [],
   "source": [
    "X_train , X_test , Y_train , Y_test = train_test_split(X_feature,Y,test_size=0.2,random_state=10,stratify=Y)"
   ]
  },
  {
   "cell_type": "code",
   "execution_count": null,
   "id": "d2fb283c",
   "metadata": {},
   "outputs": [],
   "source": []
  },
  {
   "cell_type": "markdown",
   "id": "56b9e6cb",
   "metadata": {},
   "source": [
    "Scaling the data"
   ]
  },
  {
   "cell_type": "code",
   "execution_count": 27,
   "id": "cc5be724",
   "metadata": {},
   "outputs": [],
   "source": [
    "from sklearn.preprocessing import MinMaxScaler "
   ]
  },
  {
   "cell_type": "code",
   "execution_count": 28,
   "id": "76d881bc",
   "metadata": {},
   "outputs": [],
   "source": [
    "scaler = MinMaxScaler().fit(X_train)"
   ]
  },
  {
   "cell_type": "code",
   "execution_count": 29,
   "id": "eba80f5e",
   "metadata": {},
   "outputs": [],
   "source": [
    "X_Scale_train = scaler.transform(X_train)"
   ]
  },
  {
   "cell_type": "code",
   "execution_count": 30,
   "id": "ffebd80b",
   "metadata": {},
   "outputs": [
    {
     "data": {
      "text/html": [
       "<div>\n",
       "<style scoped>\n",
       "    .dataframe tbody tr th:only-of-type {\n",
       "        vertical-align: middle;\n",
       "    }\n",
       "\n",
       "    .dataframe tbody tr th {\n",
       "        vertical-align: top;\n",
       "    }\n",
       "\n",
       "    .dataframe thead th {\n",
       "        text-align: right;\n",
       "    }\n",
       "</style>\n",
       "<table border=\"1\" class=\"dataframe\">\n",
       "  <thead>\n",
       "    <tr style=\"text-align: right;\">\n",
       "      <th></th>\n",
       "      <th>Age</th>\n",
       "      <th>Final_census</th>\n",
       "      <th>Education-num</th>\n",
       "      <th>capital-gain</th>\n",
       "      <th>capital-loss</th>\n",
       "      <th>hours-per-week</th>\n",
       "      <th>Profession Class_ Local-gov</th>\n",
       "      <th>Profession Class_ Never-worked</th>\n",
       "      <th>Profession Class_ Private</th>\n",
       "      <th>Profession Class_ Self-emp-inc</th>\n",
       "      <th>Profession Class_ Self-emp-not-inc</th>\n",
       "      <th>Education_ 11th</th>\n",
       "      <th>Education_ 12th</th>\n",
       "      <th>Education_ 1st-4th</th>\n",
       "      <th>Education_ 5th-6th</th>\n",
       "      <th>Education_ 7th-8th</th>\n",
       "      <th>Education_ 9th</th>\n",
       "      <th>Education_ Assoc-voc</th>\n",
       "      <th>Education_ Bachelors</th>\n",
       "      <th>Education_ Doctorate</th>\n",
       "      <th>Education_ HS-grad</th>\n",
       "      <th>Education_ Masters</th>\n",
       "      <th>Education_ Preschool</th>\n",
       "      <th>Education_ Prof-school</th>\n",
       "      <th>Education_ Some-college</th>\n",
       "      <th>marital-status_ Married-civ-spouse</th>\n",
       "      <th>marital-status_ Never-married</th>\n",
       "      <th>marital-status_ Separated</th>\n",
       "      <th>marital-status_ Widowed</th>\n",
       "      <th>occupation_ Exec-managerial</th>\n",
       "      <th>occupation_ Farming-fishing</th>\n",
       "      <th>occupation_ Handlers-cleaners</th>\n",
       "      <th>occupation_ Machine-op-inspct</th>\n",
       "      <th>occupation_ Other-service</th>\n",
       "      <th>occupation_ Priv-house-serv</th>\n",
       "      <th>occupation_ Prof-specialty</th>\n",
       "      <th>occupation_ Protective-serv</th>\n",
       "      <th>occupation_ Tech-support</th>\n",
       "      <th>occupation_ Transport-moving</th>\n",
       "      <th>relationship_ Not-in-family</th>\n",
       "      <th>relationship_ Other-relative</th>\n",
       "      <th>relationship_ Own-child</th>\n",
       "      <th>relationship_ Unmarried</th>\n",
       "      <th>relationship_ Wife</th>\n",
       "      <th>race_ Black</th>\n",
       "      <th>race_ White</th>\n",
       "      <th>Gender_ Male</th>\n",
       "      <th>country_ China</th>\n",
       "      <th>country_ Columbia</th>\n",
       "      <th>country_ France</th>\n",
       "      <th>country_ Greece</th>\n",
       "      <th>country_ Guatemala</th>\n",
       "      <th>country_ India</th>\n",
       "      <th>country_ Iran</th>\n",
       "      <th>country_ Italy</th>\n",
       "      <th>country_ Jamaica</th>\n",
       "      <th>country_ Japan</th>\n",
       "      <th>country_ Laos</th>\n",
       "      <th>country_ Mexico</th>\n",
       "      <th>country_ Philippines</th>\n",
       "      <th>country_ Poland</th>\n",
       "      <th>country_ Puerto-Rico</th>\n",
       "      <th>country_ Scotland</th>\n",
       "      <th>country_ Taiwan</th>\n",
       "      <th>country_ Thailand</th>\n",
       "      <th>country_ United-States</th>\n",
       "      <th>country_ Vietnam</th>\n",
       "    </tr>\n",
       "  </thead>\n",
       "  <tbody>\n",
       "    <tr>\n",
       "      <th>0</th>\n",
       "      <td>0.475410</td>\n",
       "      <td>1.000000</td>\n",
       "      <td>0.391304</td>\n",
       "      <td>0.04386</td>\n",
       "      <td>0.0</td>\n",
       "      <td>0.375</td>\n",
       "      <td>0.0</td>\n",
       "      <td>0.0</td>\n",
       "      <td>1.0</td>\n",
       "      <td>0.0</td>\n",
       "      <td>0.0</td>\n",
       "      <td>0.0</td>\n",
       "      <td>0.0</td>\n",
       "      <td>0.0</td>\n",
       "      <td>0.0</td>\n",
       "      <td>0.0</td>\n",
       "      <td>0.0</td>\n",
       "      <td>0.0</td>\n",
       "      <td>0.0</td>\n",
       "      <td>0.0</td>\n",
       "      <td>1.0</td>\n",
       "      <td>0.0</td>\n",
       "      <td>0.0</td>\n",
       "      <td>0.0</td>\n",
       "      <td>0.0</td>\n",
       "      <td>1.0</td>\n",
       "      <td>0.0</td>\n",
       "      <td>0.0</td>\n",
       "      <td>0.0</td>\n",
       "      <td>0.0</td>\n",
       "      <td>0.0</td>\n",
       "      <td>0.0</td>\n",
       "      <td>1.0</td>\n",
       "      <td>0.0</td>\n",
       "      <td>0.0</td>\n",
       "      <td>0.0</td>\n",
       "      <td>0.0</td>\n",
       "      <td>0.0</td>\n",
       "      <td>0.0</td>\n",
       "      <td>0.0</td>\n",
       "      <td>0.0</td>\n",
       "      <td>0.0</td>\n",
       "      <td>0.0</td>\n",
       "      <td>0.0</td>\n",
       "      <td>1.0</td>\n",
       "      <td>0.0</td>\n",
       "      <td>1.0</td>\n",
       "      <td>0.0</td>\n",
       "      <td>0.0</td>\n",
       "      <td>0.0</td>\n",
       "      <td>0.0</td>\n",
       "      <td>0.0</td>\n",
       "      <td>0.0</td>\n",
       "      <td>0.0</td>\n",
       "      <td>0.0</td>\n",
       "      <td>0.0</td>\n",
       "      <td>0.0</td>\n",
       "      <td>0.0</td>\n",
       "      <td>0.0</td>\n",
       "      <td>0.0</td>\n",
       "      <td>0.0</td>\n",
       "      <td>0.0</td>\n",
       "      <td>0.0</td>\n",
       "      <td>0.0</td>\n",
       "      <td>0.0</td>\n",
       "      <td>1.0</td>\n",
       "      <td>0.0</td>\n",
       "    </tr>\n",
       "    <tr>\n",
       "      <th>1</th>\n",
       "      <td>0.311475</td>\n",
       "      <td>0.090899</td>\n",
       "      <td>0.478261</td>\n",
       "      <td>0.00000</td>\n",
       "      <td>0.0</td>\n",
       "      <td>0.375</td>\n",
       "      <td>0.0</td>\n",
       "      <td>0.0</td>\n",
       "      <td>1.0</td>\n",
       "      <td>0.0</td>\n",
       "      <td>0.0</td>\n",
       "      <td>0.0</td>\n",
       "      <td>0.0</td>\n",
       "      <td>0.0</td>\n",
       "      <td>0.0</td>\n",
       "      <td>0.0</td>\n",
       "      <td>0.0</td>\n",
       "      <td>0.0</td>\n",
       "      <td>0.0</td>\n",
       "      <td>0.0</td>\n",
       "      <td>0.0</td>\n",
       "      <td>0.0</td>\n",
       "      <td>0.0</td>\n",
       "      <td>0.0</td>\n",
       "      <td>1.0</td>\n",
       "      <td>0.0</td>\n",
       "      <td>0.0</td>\n",
       "      <td>0.0</td>\n",
       "      <td>0.0</td>\n",
       "      <td>0.0</td>\n",
       "      <td>0.0</td>\n",
       "      <td>0.0</td>\n",
       "      <td>0.0</td>\n",
       "      <td>0.0</td>\n",
       "      <td>0.0</td>\n",
       "      <td>0.0</td>\n",
       "      <td>0.0</td>\n",
       "      <td>0.0</td>\n",
       "      <td>0.0</td>\n",
       "      <td>0.0</td>\n",
       "      <td>0.0</td>\n",
       "      <td>0.0</td>\n",
       "      <td>1.0</td>\n",
       "      <td>0.0</td>\n",
       "      <td>0.0</td>\n",
       "      <td>1.0</td>\n",
       "      <td>0.0</td>\n",
       "      <td>0.0</td>\n",
       "      <td>0.0</td>\n",
       "      <td>0.0</td>\n",
       "      <td>0.0</td>\n",
       "      <td>0.0</td>\n",
       "      <td>0.0</td>\n",
       "      <td>0.0</td>\n",
       "      <td>0.0</td>\n",
       "      <td>0.0</td>\n",
       "      <td>0.0</td>\n",
       "      <td>0.0</td>\n",
       "      <td>0.0</td>\n",
       "      <td>0.0</td>\n",
       "      <td>0.0</td>\n",
       "      <td>0.0</td>\n",
       "      <td>0.0</td>\n",
       "      <td>0.0</td>\n",
       "      <td>0.0</td>\n",
       "      <td>1.0</td>\n",
       "      <td>0.0</td>\n",
       "    </tr>\n",
       "    <tr>\n",
       "      <th>2</th>\n",
       "      <td>0.426230</td>\n",
       "      <td>0.329919</td>\n",
       "      <td>0.739130</td>\n",
       "      <td>0.00000</td>\n",
       "      <td>0.0</td>\n",
       "      <td>0.275</td>\n",
       "      <td>0.0</td>\n",
       "      <td>0.0</td>\n",
       "      <td>1.0</td>\n",
       "      <td>0.0</td>\n",
       "      <td>0.0</td>\n",
       "      <td>0.0</td>\n",
       "      <td>0.0</td>\n",
       "      <td>0.0</td>\n",
       "      <td>0.0</td>\n",
       "      <td>0.0</td>\n",
       "      <td>0.0</td>\n",
       "      <td>0.0</td>\n",
       "      <td>1.0</td>\n",
       "      <td>0.0</td>\n",
       "      <td>0.0</td>\n",
       "      <td>0.0</td>\n",
       "      <td>0.0</td>\n",
       "      <td>0.0</td>\n",
       "      <td>0.0</td>\n",
       "      <td>1.0</td>\n",
       "      <td>0.0</td>\n",
       "      <td>0.0</td>\n",
       "      <td>0.0</td>\n",
       "      <td>1.0</td>\n",
       "      <td>0.0</td>\n",
       "      <td>0.0</td>\n",
       "      <td>0.0</td>\n",
       "      <td>0.0</td>\n",
       "      <td>0.0</td>\n",
       "      <td>0.0</td>\n",
       "      <td>0.0</td>\n",
       "      <td>0.0</td>\n",
       "      <td>0.0</td>\n",
       "      <td>0.0</td>\n",
       "      <td>0.0</td>\n",
       "      <td>0.0</td>\n",
       "      <td>0.0</td>\n",
       "      <td>0.0</td>\n",
       "      <td>0.0</td>\n",
       "      <td>1.0</td>\n",
       "      <td>1.0</td>\n",
       "      <td>0.0</td>\n",
       "      <td>0.0</td>\n",
       "      <td>0.0</td>\n",
       "      <td>0.0</td>\n",
       "      <td>0.0</td>\n",
       "      <td>0.0</td>\n",
       "      <td>0.0</td>\n",
       "      <td>0.0</td>\n",
       "      <td>0.0</td>\n",
       "      <td>0.0</td>\n",
       "      <td>0.0</td>\n",
       "      <td>0.0</td>\n",
       "      <td>0.0</td>\n",
       "      <td>0.0</td>\n",
       "      <td>0.0</td>\n",
       "      <td>0.0</td>\n",
       "      <td>0.0</td>\n",
       "      <td>0.0</td>\n",
       "      <td>1.0</td>\n",
       "      <td>0.0</td>\n",
       "    </tr>\n",
       "    <tr>\n",
       "      <th>3</th>\n",
       "      <td>0.786885</td>\n",
       "      <td>0.256780</td>\n",
       "      <td>0.739130</td>\n",
       "      <td>0.00000</td>\n",
       "      <td>0.0</td>\n",
       "      <td>0.375</td>\n",
       "      <td>0.0</td>\n",
       "      <td>0.0</td>\n",
       "      <td>0.0</td>\n",
       "      <td>1.0</td>\n",
       "      <td>0.0</td>\n",
       "      <td>0.0</td>\n",
       "      <td>0.0</td>\n",
       "      <td>0.0</td>\n",
       "      <td>0.0</td>\n",
       "      <td>0.0</td>\n",
       "      <td>0.0</td>\n",
       "      <td>0.0</td>\n",
       "      <td>1.0</td>\n",
       "      <td>0.0</td>\n",
       "      <td>0.0</td>\n",
       "      <td>0.0</td>\n",
       "      <td>0.0</td>\n",
       "      <td>0.0</td>\n",
       "      <td>0.0</td>\n",
       "      <td>1.0</td>\n",
       "      <td>0.0</td>\n",
       "      <td>0.0</td>\n",
       "      <td>0.0</td>\n",
       "      <td>1.0</td>\n",
       "      <td>0.0</td>\n",
       "      <td>0.0</td>\n",
       "      <td>0.0</td>\n",
       "      <td>0.0</td>\n",
       "      <td>0.0</td>\n",
       "      <td>0.0</td>\n",
       "      <td>0.0</td>\n",
       "      <td>0.0</td>\n",
       "      <td>0.0</td>\n",
       "      <td>0.0</td>\n",
       "      <td>0.0</td>\n",
       "      <td>0.0</td>\n",
       "      <td>0.0</td>\n",
       "      <td>0.0</td>\n",
       "      <td>0.0</td>\n",
       "      <td>1.0</td>\n",
       "      <td>1.0</td>\n",
       "      <td>0.0</td>\n",
       "      <td>0.0</td>\n",
       "      <td>0.0</td>\n",
       "      <td>0.0</td>\n",
       "      <td>0.0</td>\n",
       "      <td>0.0</td>\n",
       "      <td>0.0</td>\n",
       "      <td>0.0</td>\n",
       "      <td>0.0</td>\n",
       "      <td>0.0</td>\n",
       "      <td>0.0</td>\n",
       "      <td>0.0</td>\n",
       "      <td>0.0</td>\n",
       "      <td>0.0</td>\n",
       "      <td>0.0</td>\n",
       "      <td>0.0</td>\n",
       "      <td>0.0</td>\n",
       "      <td>0.0</td>\n",
       "      <td>1.0</td>\n",
       "      <td>0.0</td>\n",
       "    </tr>\n",
       "    <tr>\n",
       "      <th>4</th>\n",
       "      <td>0.344262</td>\n",
       "      <td>0.067693</td>\n",
       "      <td>0.739130</td>\n",
       "      <td>0.00000</td>\n",
       "      <td>0.0</td>\n",
       "      <td>0.375</td>\n",
       "      <td>0.0</td>\n",
       "      <td>0.0</td>\n",
       "      <td>1.0</td>\n",
       "      <td>0.0</td>\n",
       "      <td>0.0</td>\n",
       "      <td>0.0</td>\n",
       "      <td>0.0</td>\n",
       "      <td>0.0</td>\n",
       "      <td>0.0</td>\n",
       "      <td>0.0</td>\n",
       "      <td>0.0</td>\n",
       "      <td>0.0</td>\n",
       "      <td>1.0</td>\n",
       "      <td>0.0</td>\n",
       "      <td>0.0</td>\n",
       "      <td>0.0</td>\n",
       "      <td>0.0</td>\n",
       "      <td>0.0</td>\n",
       "      <td>0.0</td>\n",
       "      <td>1.0</td>\n",
       "      <td>0.0</td>\n",
       "      <td>0.0</td>\n",
       "      <td>0.0</td>\n",
       "      <td>1.0</td>\n",
       "      <td>0.0</td>\n",
       "      <td>0.0</td>\n",
       "      <td>0.0</td>\n",
       "      <td>0.0</td>\n",
       "      <td>0.0</td>\n",
       "      <td>0.0</td>\n",
       "      <td>0.0</td>\n",
       "      <td>0.0</td>\n",
       "      <td>0.0</td>\n",
       "      <td>0.0</td>\n",
       "      <td>0.0</td>\n",
       "      <td>0.0</td>\n",
       "      <td>0.0</td>\n",
       "      <td>1.0</td>\n",
       "      <td>0.0</td>\n",
       "      <td>1.0</td>\n",
       "      <td>0.0</td>\n",
       "      <td>0.0</td>\n",
       "      <td>0.0</td>\n",
       "      <td>0.0</td>\n",
       "      <td>0.0</td>\n",
       "      <td>0.0</td>\n",
       "      <td>0.0</td>\n",
       "      <td>0.0</td>\n",
       "      <td>0.0</td>\n",
       "      <td>0.0</td>\n",
       "      <td>0.0</td>\n",
       "      <td>0.0</td>\n",
       "      <td>0.0</td>\n",
       "      <td>0.0</td>\n",
       "      <td>0.0</td>\n",
       "      <td>0.0</td>\n",
       "      <td>0.0</td>\n",
       "      <td>0.0</td>\n",
       "      <td>0.0</td>\n",
       "      <td>1.0</td>\n",
       "      <td>0.0</td>\n",
       "    </tr>\n",
       "  </tbody>\n",
       "</table>\n",
       "</div>"
      ],
      "text/plain": [
       "        Age  Final_census   Education-num   capital-gain   capital-loss  \\\n",
       "0  0.475410      1.000000        0.391304        0.04386            0.0   \n",
       "1  0.311475      0.090899        0.478261        0.00000            0.0   \n",
       "2  0.426230      0.329919        0.739130        0.00000            0.0   \n",
       "3  0.786885      0.256780        0.739130        0.00000            0.0   \n",
       "4  0.344262      0.067693        0.739130        0.00000            0.0   \n",
       "\n",
       "    hours-per-week  Profession Class_ Local-gov  \\\n",
       "0            0.375                          0.0   \n",
       "1            0.375                          0.0   \n",
       "2            0.275                          0.0   \n",
       "3            0.375                          0.0   \n",
       "4            0.375                          0.0   \n",
       "\n",
       "   Profession Class_ Never-worked  Profession Class_ Private  \\\n",
       "0                             0.0                        1.0   \n",
       "1                             0.0                        1.0   \n",
       "2                             0.0                        1.0   \n",
       "3                             0.0                        0.0   \n",
       "4                             0.0                        1.0   \n",
       "\n",
       "   Profession Class_ Self-emp-inc  Profession Class_ Self-emp-not-inc  \\\n",
       "0                             0.0                                 0.0   \n",
       "1                             0.0                                 0.0   \n",
       "2                             0.0                                 0.0   \n",
       "3                             1.0                                 0.0   \n",
       "4                             0.0                                 0.0   \n",
       "\n",
       "    Education_ 11th   Education_ 12th   Education_ 1st-4th  \\\n",
       "0               0.0               0.0                  0.0   \n",
       "1               0.0               0.0                  0.0   \n",
       "2               0.0               0.0                  0.0   \n",
       "3               0.0               0.0                  0.0   \n",
       "4               0.0               0.0                  0.0   \n",
       "\n",
       "    Education_ 5th-6th   Education_ 7th-8th   Education_ 9th  \\\n",
       "0                  0.0                  0.0              0.0   \n",
       "1                  0.0                  0.0              0.0   \n",
       "2                  0.0                  0.0              0.0   \n",
       "3                  0.0                  0.0              0.0   \n",
       "4                  0.0                  0.0              0.0   \n",
       "\n",
       "    Education_ Assoc-voc   Education_ Bachelors   Education_ Doctorate  \\\n",
       "0                    0.0                    0.0                    0.0   \n",
       "1                    0.0                    0.0                    0.0   \n",
       "2                    0.0                    1.0                    0.0   \n",
       "3                    0.0                    1.0                    0.0   \n",
       "4                    0.0                    1.0                    0.0   \n",
       "\n",
       "    Education_ HS-grad   Education_ Masters   Education_ Preschool  \\\n",
       "0                  1.0                  0.0                    0.0   \n",
       "1                  0.0                  0.0                    0.0   \n",
       "2                  0.0                  0.0                    0.0   \n",
       "3                  0.0                  0.0                    0.0   \n",
       "4                  0.0                  0.0                    0.0   \n",
       "\n",
       "    Education_ Prof-school   Education_ Some-college  \\\n",
       "0                      0.0                       0.0   \n",
       "1                      0.0                       1.0   \n",
       "2                      0.0                       0.0   \n",
       "3                      0.0                       0.0   \n",
       "4                      0.0                       0.0   \n",
       "\n",
       "    marital-status_ Married-civ-spouse   marital-status_ Never-married  \\\n",
       "0                                  1.0                             0.0   \n",
       "1                                  0.0                             0.0   \n",
       "2                                  1.0                             0.0   \n",
       "3                                  1.0                             0.0   \n",
       "4                                  1.0                             0.0   \n",
       "\n",
       "    marital-status_ Separated   marital-status_ Widowed  \\\n",
       "0                         0.0                       0.0   \n",
       "1                         0.0                       0.0   \n",
       "2                         0.0                       0.0   \n",
       "3                         0.0                       0.0   \n",
       "4                         0.0                       0.0   \n",
       "\n",
       "    occupation_ Exec-managerial   occupation_ Farming-fishing  \\\n",
       "0                           0.0                           0.0   \n",
       "1                           0.0                           0.0   \n",
       "2                           1.0                           0.0   \n",
       "3                           1.0                           0.0   \n",
       "4                           1.0                           0.0   \n",
       "\n",
       "    occupation_ Handlers-cleaners   occupation_ Machine-op-inspct  \\\n",
       "0                             0.0                             1.0   \n",
       "1                             0.0                             0.0   \n",
       "2                             0.0                             0.0   \n",
       "3                             0.0                             0.0   \n",
       "4                             0.0                             0.0   \n",
       "\n",
       "    occupation_ Other-service   occupation_ Priv-house-serv  \\\n",
       "0                         0.0                           0.0   \n",
       "1                         0.0                           0.0   \n",
       "2                         0.0                           0.0   \n",
       "3                         0.0                           0.0   \n",
       "4                         0.0                           0.0   \n",
       "\n",
       "    occupation_ Prof-specialty   occupation_ Protective-serv  \\\n",
       "0                          0.0                           0.0   \n",
       "1                          0.0                           0.0   \n",
       "2                          0.0                           0.0   \n",
       "3                          0.0                           0.0   \n",
       "4                          0.0                           0.0   \n",
       "\n",
       "    occupation_ Tech-support   occupation_ Transport-moving  \\\n",
       "0                        0.0                            0.0   \n",
       "1                        0.0                            0.0   \n",
       "2                        0.0                            0.0   \n",
       "3                        0.0                            0.0   \n",
       "4                        0.0                            0.0   \n",
       "\n",
       "    relationship_ Not-in-family   relationship_ Other-relative  \\\n",
       "0                           0.0                            0.0   \n",
       "1                           0.0                            0.0   \n",
       "2                           0.0                            0.0   \n",
       "3                           0.0                            0.0   \n",
       "4                           0.0                            0.0   \n",
       "\n",
       "    relationship_ Own-child   relationship_ Unmarried   relationship_ Wife  \\\n",
       "0                       0.0                       0.0                  0.0   \n",
       "1                       0.0                       1.0                  0.0   \n",
       "2                       0.0                       0.0                  0.0   \n",
       "3                       0.0                       0.0                  0.0   \n",
       "4                       0.0                       0.0                  1.0   \n",
       "\n",
       "    race_ Black   race_ White  Gender_ Male   country_ China  \\\n",
       "0           1.0           0.0           1.0              0.0   \n",
       "1           0.0           1.0           0.0              0.0   \n",
       "2           0.0           1.0           1.0              0.0   \n",
       "3           0.0           1.0           1.0              0.0   \n",
       "4           0.0           1.0           0.0              0.0   \n",
       "\n",
       "    country_ Columbia   country_ France   country_ Greece  \\\n",
       "0                 0.0               0.0               0.0   \n",
       "1                 0.0               0.0               0.0   \n",
       "2                 0.0               0.0               0.0   \n",
       "3                 0.0               0.0               0.0   \n",
       "4                 0.0               0.0               0.0   \n",
       "\n",
       "    country_ Guatemala   country_ India   country_ Iran   country_ Italy  \\\n",
       "0                  0.0              0.0             0.0              0.0   \n",
       "1                  0.0              0.0             0.0              0.0   \n",
       "2                  0.0              0.0             0.0              0.0   \n",
       "3                  0.0              0.0             0.0              0.0   \n",
       "4                  0.0              0.0             0.0              0.0   \n",
       "\n",
       "    country_ Jamaica   country_ Japan   country_ Laos   country_ Mexico  \\\n",
       "0                0.0              0.0             0.0               0.0   \n",
       "1                0.0              0.0             0.0               0.0   \n",
       "2                0.0              0.0             0.0               0.0   \n",
       "3                0.0              0.0             0.0               0.0   \n",
       "4                0.0              0.0             0.0               0.0   \n",
       "\n",
       "    country_ Philippines   country_ Poland   country_ Puerto-Rico  \\\n",
       "0                    0.0               0.0                    0.0   \n",
       "1                    0.0               0.0                    0.0   \n",
       "2                    0.0               0.0                    0.0   \n",
       "3                    0.0               0.0                    0.0   \n",
       "4                    0.0               0.0                    0.0   \n",
       "\n",
       "    country_ Scotland   country_ Taiwan   country_ Thailand  \\\n",
       "0                 0.0               0.0                 0.0   \n",
       "1                 0.0               0.0                 0.0   \n",
       "2                 0.0               0.0                 0.0   \n",
       "3                 0.0               0.0                 0.0   \n",
       "4                 0.0               0.0                 0.0   \n",
       "\n",
       "    country_ United-States   country_ Vietnam  \n",
       "0                      1.0                0.0  \n",
       "1                      1.0                0.0  \n",
       "2                      1.0                0.0  \n",
       "3                      1.0                0.0  \n",
       "4                      1.0                0.0  "
      ]
     },
     "execution_count": 30,
     "metadata": {},
     "output_type": "execute_result"
    }
   ],
   "source": [
    "X_train = pd.DataFrame(X_Scale_train,columns=X_feature.columns)\n",
    "X_train.head()"
   ]
  },
  {
   "cell_type": "code",
   "execution_count": 31,
   "id": "61bc02b8",
   "metadata": {},
   "outputs": [
    {
     "data": {
      "text/plain": [
       "(6513, 67)"
      ]
     },
     "execution_count": 31,
     "metadata": {},
     "output_type": "execute_result"
    }
   ],
   "source": [
    "X_Scale_test = scaler.transform(X_test)\n",
    "X_test = pd.DataFrame(X_Scale_test,columns=X_feature.columns)\n",
    "X_test.shape"
   ]
  },
  {
   "cell_type": "code",
   "execution_count": 50,
   "id": "b286f064",
   "metadata": {},
   "outputs": [
    {
     "data": {
      "text/plain": [
       "0    4945\n",
       "1    1568\n",
       "Name:  income, dtype: int64"
      ]
     },
     "execution_count": 50,
     "metadata": {},
     "output_type": "execute_result"
    }
   ],
   "source": [
    "Y_test.value_counts()"
   ]
  },
  {
   "cell_type": "markdown",
   "id": "903f59ae",
   "metadata": {},
   "source": [
    "Here MinMaxScaler was used because the dataset is non parametric dataset, and only the xtrain part was scaled becuase real life data wont be scaled , so using scaler only to train the model , testing with actual data "
   ]
  },
  {
   "cell_type": "code",
   "execution_count": null,
   "id": "fa3c9d67",
   "metadata": {},
   "outputs": [],
   "source": []
  },
  {
   "cell_type": "markdown",
   "id": "ff56abcf",
   "metadata": {},
   "source": [
    "Model Building"
   ]
  },
  {
   "cell_type": "code",
   "execution_count": 32,
   "id": "caeee995",
   "metadata": {},
   "outputs": [],
   "source": [
    "from sklearn.linear_model import LogisticRegression\n",
    "from sklearn.ensemble import RandomForestClassifier\n",
    "from sklearn.svm import SVC\n",
    "from sklearn.neighbors import KNeighborsClassifier\n",
    "from sklearn.tree import DecisionTreeClassifier\n",
    "from sklearn.naive_bayes import GaussianNB\n",
    "from lightgbm import LGBMClassifier\n",
    "from sklearn.ensemble import AdaBoostClassifier"
   ]
  },
  {
   "cell_type": "code",
   "execution_count": 33,
   "id": "c498d3d0",
   "metadata": {},
   "outputs": [],
   "source": [
    "LR = LogisticRegression()\n",
    "KNN = KNeighborsClassifier()\n",
    "svc = SVC()\n",
    "rf = RandomForestClassifier()\n",
    "dt = DecisionTreeClassifier()\n",
    "gnb = GaussianNB()\n",
    "light = LGBMClassifier()\n",
    "ada = AdaBoostClassifier()"
   ]
  },
  {
   "cell_type": "code",
   "execution_count": 34,
   "id": "b38aef22",
   "metadata": {},
   "outputs": [],
   "source": [
    "ML_model = [LR,KNN,gnb,dt,rf,light,svc,ada]"
   ]
  },
  {
   "cell_type": "code",
   "execution_count": 38,
   "id": "2fa4d071",
   "metadata": {},
   "outputs": [],
   "source": [
    "from sklearn.metrics import accuracy_score"
   ]
  },
  {
   "cell_type": "code",
   "execution_count": 138,
   "id": "047d5c53",
   "metadata": {},
   "outputs": [
    {
     "name": "stdout",
     "output_type": "stream",
     "text": [
      "==================================================\n",
      "Performance of LogisticRegression()\n",
      "-----------------------------------\n",
      "Training Accuracy score 83.63%\n",
      "Validation Accuracy score 83.08%\n",
      "\n",
      "\n",
      "==================================================\n",
      "Performance of KNeighborsClassifier()\n",
      "-----------------------------------\n",
      "Training Accuracy score 87.04%\n",
      "Validation Accuracy score 81.31%\n",
      "\n",
      "\n",
      "==================================================\n",
      "Performance of GaussianNB()\n",
      "-----------------------------------\n",
      "Training Accuracy score 54.18%\n",
      "Validation Accuracy score 53.62%\n",
      "\n",
      "\n",
      "==================================================\n",
      "Performance of DecisionTreeClassifier()\n",
      "-----------------------------------\n",
      "Training Accuracy score 99.99%\n",
      "Validation Accuracy score 77.40%\n",
      "\n",
      "\n",
      "==================================================\n",
      "Performance of RandomForestClassifier()\n",
      "-----------------------------------\n",
      "Training Accuracy score 99.99%\n",
      "Validation Accuracy score 82.17%\n",
      "\n",
      "\n",
      "==================================================\n",
      "Performance of LGBMClassifier()\n",
      "-----------------------------------\n",
      "[LightGBM] [Warning] Found whitespace in feature_names, replace with underlines\n",
      "[LightGBM] [Info] Number of positive: 6273, number of negative: 19775\n",
      "[LightGBM] [Info] Auto-choosing row-wise multi-threading, the overhead of testing was 0.001664 seconds.\n",
      "You can set `force_row_wise=true` to remove the overhead.\n",
      "And if memory is not enough, you can set `force_col_wise=true`.\n",
      "[LightGBM] [Info] Total Bins 460\n",
      "[LightGBM] [Info] Number of data points in the train set: 26048, number of used features: 58\n",
      "[LightGBM] [Info] [binary:BoostFromScore]: pavg=0.240825 -> initscore=-1.148164\n",
      "[LightGBM] [Info] Start training from score -1.148164\n",
      "Training Accuracy score 85.90%\n",
      "Validation Accuracy score 84.15%\n",
      "\n",
      "\n",
      "==================================================\n",
      "Performance of SVC()\n",
      "-----------------------------------\n",
      "Training Accuracy score 83.55%\n",
      "Validation Accuracy score 82.87%\n",
      "\n",
      "\n",
      "==================================================\n",
      "Performance of AdaBoostClassifier()\n",
      "-----------------------------------\n",
      "Training Accuracy score 83.74%\n",
      "Validation Accuracy score 83.26%\n",
      "\n",
      "\n"
     ]
    }
   ],
   "source": [
    "\n",
    "for model in ML_model:\n",
    "    print(\"==========\"*5)\n",
    "    print(\"Performance of\", model)\n",
    "    print(\"-------\"*5)\n",
    "    \n",
    "    alg=model.fit(X_train,Y_train)\n",
    "    y_pred_train=alg.predict(X_train)\n",
    "    y_pred_test=alg.predict(X_test)\n",
    "    train=accuracy_score(Y_train,y_pred_train)\n",
    "    test=accuracy_score(Y_test,y_pred_test)\n",
    "    \n",
    "    # printing the metrics\n",
    "    \n",
    "    print(f\"Training Accuracy score {(train)*100:.2f}%\")\n",
    "    print(f\"Testing Accuracy score {(test)*100:.2f}%\")\n",
    "    print('\\n')"
   ]
  },
  {
   "cell_type": "markdown",
   "id": "2872f055",
   "metadata": {},
   "source": [
    "We can see LGBM , ADAboost,Logistic regression and SVC provided the top testing accuracy and performed best .so we can finetune using hyper parameter tuning "
   ]
  },
  {
   "cell_type": "code",
   "execution_count": 139,
   "id": "9e9efb11",
   "metadata": {},
   "outputs": [],
   "source": [
    "from imblearn.over_sampling import RandomOverSampler,SMOTE,ADASYN"
   ]
  },
  {
   "cell_type": "code",
   "execution_count": 140,
   "id": "bf069e16",
   "metadata": {},
   "outputs": [
    {
     "data": {
      "text/plain": [
       "0    19775\n",
       "1     6273\n",
       "Name:  income, dtype: int64"
      ]
     },
     "execution_count": 140,
     "metadata": {},
     "output_type": "execute_result"
    }
   ],
   "source": [
    "#Before Sampling\n",
    "Y_train.value_counts()"
   ]
  },
  {
   "cell_type": "code",
   "execution_count": 141,
   "id": "0d8314d0",
   "metadata": {},
   "outputs": [
    {
     "data": {
      "text/plain": [
       "1    19775\n",
       "0    19775\n",
       "Name:  income, dtype: int64"
      ]
     },
     "execution_count": 141,
     "metadata": {},
     "output_type": "execute_result"
    }
   ],
   "source": [
    "#SMOTE\n",
    "\n",
    "X_train_over_1 , Y_train_over_1 = SMOTE().fit_resample(X_train,Y_train)\n",
    "Y_train_over_1.value_counts()"
   ]
  },
  {
   "cell_type": "code",
   "execution_count": 142,
   "id": "a632bbf1",
   "metadata": {},
   "outputs": [
    {
     "data": {
      "text/plain": [
       "1    19775\n",
       "0    19775\n",
       "Name:  income, dtype: int64"
      ]
     },
     "execution_count": 142,
     "metadata": {},
     "output_type": "execute_result"
    }
   ],
   "source": [
    "#RandomOverSampler\n",
    "\n",
    "X_train_over_2 , Y_train_over_2 = RandomOverSampler().fit_resample(X_train,Y_train)\n",
    "Y_train_over_2.value_counts()"
   ]
  },
  {
   "cell_type": "code",
   "execution_count": 144,
   "id": "516e807b",
   "metadata": {},
   "outputs": [],
   "source": [
    "ML_models = [light , svc , ada,LR]"
   ]
  },
  {
   "cell_type": "code",
   "execution_count": 145,
   "id": "74a610a2",
   "metadata": {},
   "outputs": [
    {
     "name": "stdout",
     "output_type": "stream",
     "text": [
      "==================================================\n",
      "SMOTE\n",
      "==================================================\n",
      "Performance of LGBMClassifier()\n",
      "-----------------------------------\n",
      "[LightGBM] [Warning] Found whitespace in feature_names, replace with underlines\n",
      "[LightGBM] [Info] Number of positive: 19775, number of negative: 19775\n",
      "[LightGBM] [Info] Auto-choosing row-wise multi-threading, the overhead of testing was 0.005506 seconds.\n",
      "You can set `force_row_wise=true` to remove the overhead.\n",
      "And if memory is not enough, you can set `force_col_wise=true`.\n",
      "[LightGBM] [Info] Total Bins 2796\n",
      "[LightGBM] [Info] Number of data points in the train set: 39550, number of used features: 59\n",
      "[LightGBM] [Info] [binary:BoostFromScore]: pavg=0.500000 -> initscore=0.000000\n",
      "Training Accuracy score 88.76%\n",
      "Testing Accuracy score 82.37%\n",
      "\n",
      "\n",
      "Performance of SVC()\n",
      "-----------------------------------\n",
      "Training Accuracy score 83.02%\n",
      "Testing Accuracy score 78.41%\n",
      "\n",
      "\n",
      "Performance of AdaBoostClassifier()\n",
      "-----------------------------------\n",
      "Training Accuracy score 83.75%\n",
      "Testing Accuracy score 79.50%\n",
      "\n",
      "\n",
      "Performance of LogisticRegression()\n",
      "-----------------------------------\n",
      "Training Accuracy score 81.38%\n",
      "Testing Accuracy score 78.04%\n",
      "\n",
      "\n",
      "==================================================\n",
      "Random_Over_Sampler\n",
      "==================================================\n",
      "Performance of LGBMClassifier()\n",
      "-----------------------------------\n",
      "[LightGBM] [Warning] Found whitespace in feature_names, replace with underlines\n",
      "[LightGBM] [Info] Number of positive: 19775, number of negative: 19775\n",
      "[LightGBM] [Info] Auto-choosing row-wise multi-threading, the overhead of testing was 0.003064 seconds.\n",
      "You can set `force_row_wise=true` to remove the overhead.\n",
      "And if memory is not enough, you can set `force_col_wise=true`.\n",
      "[LightGBM] [Info] Total Bins 462\n",
      "[LightGBM] [Info] Number of data points in the train set: 39550, number of used features: 59\n",
      "[LightGBM] [Info] [binary:BoostFromScore]: pavg=0.500000 -> initscore=0.000000\n",
      "Training Accuracy score 84.80%\n",
      "Testing Accuracy score 79.53%\n",
      "\n",
      "\n",
      "Performance of SVC()\n",
      "-----------------------------------\n",
      "Training Accuracy score 81.65%\n",
      "Testing Accuracy score 77.23%\n",
      "\n",
      "\n",
      "Performance of AdaBoostClassifier()\n",
      "-----------------------------------\n",
      "Training Accuracy score 81.57%\n",
      "Testing Accuracy score 78.72%\n",
      "\n",
      "\n",
      "Performance of LogisticRegression()\n",
      "-----------------------------------\n",
      "Training Accuracy score 81.03%\n",
      "Testing Accuracy score 78.11%\n",
      "\n",
      "\n"
     ]
    }
   ],
   "source": [
    "Train_test_over = [(\"SMOTE\",X_train_over_1,Y_train_over_1),\n",
    "                   (\"Random_Over_Sampler\",X_train_over_2,Y_train_over_2),\n",
    "                   ]\n",
    "\n",
    "\n",
    "for i,j,k in Train_test_over:\n",
    "    print(\"==========\"*5)\n",
    "    print(i)\n",
    "    print(\"==========\"*5)\n",
    "    \n",
    "    for model in ML_models:\n",
    "    \n",
    "        print(\"Performance of\", model)\n",
    "        print(\"-------\"*5)\n",
    "    \n",
    "        alg=model.fit(j,k)\n",
    "        y_pred_train=alg.predict(j)\n",
    "        y_pred_test=alg.predict(X_test)\n",
    "        train=accuracy_score(k,y_pred_train)\n",
    "        test=accuracy_score(Y_test,y_pred_test)\n",
    "    \n",
    "        # printing the metrics\n",
    "    \n",
    "        print(f\"Training Accuracy score {(train)*100:.2f}%\")\n",
    "        print(f\"Testing Accuracy score {(test)*100:.2f}%\")\n",
    "\n",
    "        print('\\n')"
   ]
  },
  {
   "cell_type": "markdown",
   "id": "205e5d20",
   "metadata": {},
   "source": [
    "Over sampling approach does not provide better result than the normal approach , so better to use normal approach to fine tune the parameters"
   ]
  },
  {
   "cell_type": "code",
   "execution_count": 146,
   "id": "5278124c",
   "metadata": {},
   "outputs": [],
   "source": [
    "from sklearn.model_selection import RandomizedSearchCV"
   ]
  },
  {
   "cell_type": "code",
   "execution_count": 147,
   "id": "eb3ca556",
   "metadata": {},
   "outputs": [],
   "source": [
    "lgbm_params = {\"max_depth\": np.arange(1,11),\n",
    "               \"n_estimators\": [int(i) for i in np.linspace(100,1000,10)],\n",
    "              \"num_leaves\" : np.arange(1,16,2),\n",
    "              \"min_child_samples\" : np.arange(1,11,2),\n",
    "              \"min_child_weight\": np.arange(0.001,0.011,0.001),\n",
    "              \"boosting_type\" : ['gbdt','dart', 'goss','rf']}"
   ]
  },
  {
   "cell_type": "code",
   "execution_count": 148,
   "id": "b76a6218",
   "metadata": {},
   "outputs": [],
   "source": [
    "ada_params = {\"n_estimators\": [int(i) for i in np.linspace(100,1000,10)],\n",
    "              \"learning_rate\" : np.arange(0.1,1.1,0.1)}"
   ]
  },
  {
   "cell_type": "code",
   "execution_count": 150,
   "id": "ab5bb86b",
   "metadata": {},
   "outputs": [],
   "source": [
    "svc_params = {\"kernel\" : ['linear', 'poly', 'rbf', 'sigmoid'],\n",
    "              \"gamma\" : ['scale', 'auto']}\n"
   ]
  },
  {
   "cell_type": "code",
   "execution_count": 153,
   "id": "2262c933",
   "metadata": {},
   "outputs": [],
   "source": [
    "LR_params = {\"C\" : np.logspace(0, 4, num=10),\n",
    "            'penalty' : ['l1','l2']}"
   ]
  },
  {
   "cell_type": "code",
   "execution_count": 154,
   "id": "0b5cf795",
   "metadata": {},
   "outputs": [],
   "source": [
    "hyp_para = [(\"LGBM\",LGBMClassifier(),lgbm_params),\n",
    "            (\"Adaboost\",AdaBoostClassifier(),ada_params),\n",
    "            (\"SVC\",SVC(),svc_params),\n",
    "           (\"LR\",LogisticRegression(),LR_params)]"
   ]
  },
  {
   "cell_type": "code",
   "execution_count": 155,
   "id": "b670f2be",
   "metadata": {},
   "outputs": [
    {
     "name": "stdout",
     "output_type": "stream",
     "text": [
      "Fitting 3 folds for each of 100 candidates, totalling 300 fits\n",
      "[LightGBM] [Warning] Found whitespace in feature_names, replace with underlines\n",
      "[LightGBM] [Info] Number of positive: 6273, number of negative: 19775\n",
      "[LightGBM] [Info] Auto-choosing row-wise multi-threading, the overhead of testing was 0.002608 seconds.\n",
      "You can set `force_row_wise=true` to remove the overhead.\n",
      "And if memory is not enough, you can set `force_col_wise=true`.\n",
      "[LightGBM] [Info] Total Bins 472\n",
      "[LightGBM] [Info] Number of data points in the train set: 26048, number of used features: 64\n",
      "[LightGBM] [Info] [binary:BoostFromScore]: pavg=0.240825 -> initscore=-1.148164\n",
      "[LightGBM] [Info] Start training from score -1.148164\n",
      "Fitting 3 folds for each of 100 candidates, totalling 300 fits\n",
      "Fitting 3 folds for each of 8 candidates, totalling 24 fits\n",
      "Fitting 3 folds for each of 20 candidates, totalling 60 fits\n",
      "---------------------LGBM---------------------\n",
      "{'num_leaves': 7, 'n_estimators': 1000, 'min_child_weight': 0.008, 'min_child_samples': 3, 'max_depth': 3, 'boosting_type': 'dart'}\n",
      "---------------------Adaboost---------------------\n",
      "{'n_estimators': 300, 'learning_rate': 0.4}\n",
      "---------------------SVC---------------------\n",
      "{'kernel': 'linear', 'gamma': 'scale'}\n",
      "---------------------LR---------------------\n",
      "{'penalty': 'l2', 'C': 7.742636826811269}\n"
     ]
    }
   ],
   "source": [
    "model_param ={}\n",
    "for model, regressor, param in hyp_para:\n",
    "    random = RandomizedSearchCV(estimator=regressor,\n",
    "                               param_distributions=param,\n",
    "                               n_iter=100,\n",
    "                               random_state=10,\n",
    "                               cv=3,\n",
    "                               verbose=2,\n",
    "                               n_jobs=-1)\n",
    "    random.fit(X_train,Y_train)\n",
    "    model_param[model] = random.best_params_\n",
    "\n",
    "for i in model_param:\n",
    "    print(f\"---------------------{i}---------------------\")\n",
    "    print(model_param[i])"
   ]
  },
  {
   "cell_type": "code",
   "execution_count": 36,
   "id": "42354fbb",
   "metadata": {},
   "outputs": [],
   "source": [
    "lgbm=LGBMClassifier(num_leaves= 7,n_estimators= 1000, min_child_weight= 0.008, min_child_samples= 3, max_depth= 3, boosting_type='dart')\n",
    "ada=AdaBoostClassifier(n_estimators = 300, learning_rate= 0.4)\n",
    "svc=SVC(kernel= 'linear', gamma= 'scale')\n",
    "LR=LogisticRegression(penalty= 'l2', C=7.742636826811269)"
   ]
  },
  {
   "cell_type": "code",
   "execution_count": 158,
   "id": "777ad2b1",
   "metadata": {},
   "outputs": [],
   "source": [
    "ML_models = [lgbm,ada,svc,LR]"
   ]
  },
  {
   "cell_type": "code",
   "execution_count": 160,
   "id": "d9068cc4",
   "metadata": {},
   "outputs": [
    {
     "name": "stdout",
     "output_type": "stream",
     "text": [
      "==================================================\n",
      "Performance of LGBMClassifier(boosting_type='dart', max_depth=3, min_child_samples=3,\n",
      "               min_child_weight=0.008, n_estimators=1000, num_leaves=7)\n",
      "-----------------------------------\n",
      "[LightGBM] [Warning] Found whitespace in feature_names, replace with underlines\n",
      "[LightGBM] [Info] Number of positive: 6273, number of negative: 19775\n",
      "[LightGBM] [Info] Auto-choosing row-wise multi-threading, the overhead of testing was 0.001391 seconds.\n",
      "You can set `force_row_wise=true` to remove the overhead.\n",
      "And if memory is not enough, you can set `force_col_wise=true`.\n",
      "[LightGBM] [Info] Total Bins 472\n",
      "[LightGBM] [Info] Number of data points in the train set: 26048, number of used features: 64\n",
      "[LightGBM] [Info] [binary:BoostFromScore]: pavg=0.240825 -> initscore=-1.148164\n",
      "[LightGBM] [Info] Start training from score -1.148164\n",
      "Training Accuracy score 85.01%\n",
      "Testing Accuracy score 84.26%\n",
      "\n",
      "\n",
      "==================================================\n",
      "Performance of AdaBoostClassifier(learning_rate=0.4, n_estimators=300)\n",
      "-----------------------------------\n",
      "Training Accuracy score 84.05%\n",
      "Testing Accuracy score 83.54%\n",
      "\n",
      "\n",
      "==================================================\n",
      "Performance of SVC(kernel='linear')\n",
      "-----------------------------------\n",
      "Training Accuracy score 83.29%\n",
      "Testing Accuracy score 82.62%\n",
      "\n",
      "\n",
      "==================================================\n",
      "Performance of LogisticRegression(C=7.742636826811269)\n",
      "-----------------------------------\n",
      "Training Accuracy score 83.65%\n",
      "Testing Accuracy score 83.05%\n",
      "\n",
      "\n"
     ]
    }
   ],
   "source": [
    "for model in ML_models:\n",
    "    print(\"==========\"*5)\n",
    "    print(\"Performance of\", model)\n",
    "    print(\"-------\"*5)\n",
    "    \n",
    "    alg=model.fit(X_train,Y_train)\n",
    "    y_pred_train=alg.predict(X_train)\n",
    "    y_pred_test=alg.predict(X_test)\n",
    "    train=accuracy_score(Y_train,y_pred_train)\n",
    "    test=accuracy_score(Y_test,y_pred_test)\n",
    "    \n",
    "    # printing the metrics\n",
    "    \n",
    "    print(f\"Training Accuracy score {(train)*100:.2f}%\")\n",
    "    print(f\"Testing Accuracy score {(test)*100:.2f}%\")\n",
    "    print('\\n')"
   ]
  },
  {
   "cell_type": "code",
   "execution_count": 46,
   "id": "93f4b7f6",
   "metadata": {},
   "outputs": [],
   "source": [
    "from sklearn.metrics import confusion_matrix,classification_report"
   ]
  },
  {
   "cell_type": "code",
   "execution_count": 44,
   "id": "e3959137",
   "metadata": {},
   "outputs": [
    {
     "name": "stdout",
     "output_type": "stream",
     "text": [
      "[LightGBM] [Warning] Found whitespace in feature_names, replace with underlines\n",
      "[LightGBM] [Info] Number of positive: 6273, number of negative: 19775\n",
      "[LightGBM] [Info] Auto-choosing row-wise multi-threading, the overhead of testing was 0.001659 seconds.\n",
      "You can set `force_row_wise=true` to remove the overhead.\n",
      "And if memory is not enough, you can set `force_col_wise=true`.\n",
      "[LightGBM] [Info] Total Bins 636\n",
      "[LightGBM] [Info] Number of data points in the train set: 26048, number of used features: 67\n",
      "[LightGBM] [Info] [binary:BoostFromScore]: pavg=0.240825 -> initscore=-1.148164\n",
      "[LightGBM] [Info] Start training from score -1.148164\n",
      "Training Accuracy score 87.85%\n",
      "Testing Accuracy score 87.15%\n",
      "Classification Report /n\n",
      "              precision    recall  f1-score   support\n",
      "\n",
      "           0       0.89      0.95      0.92      4945\n",
      "           1       0.79      0.64      0.70      1568\n",
      "\n",
      "    accuracy                           0.87      6513\n",
      "   macro avg       0.84      0.79      0.81      6513\n",
      "weighted avg       0.87      0.87      0.87      6513\n",
      "\n"
     ]
    }
   ],
   "source": [
    "alg=lgbm.fit(X_train,Y_train)\n",
    "y_pred_train=alg.predict(X_train)\n",
    "y_pred_test=alg.predict(X_test)\n",
    "train=accuracy_score(Y_train,y_pred_train)\n",
    "test=accuracy_score(Y_test,y_pred_test)\n",
    "Report = classification_report(Y_test,y_pred_test)\n",
    "\n",
    "print(f\"Training Accuracy score {(train)*100:.2f}%\")\n",
    "print(f\"Testing Accuracy score {(test)*100:.2f}%\")\n",
    "print(\"Classification Report /n\")\n",
    "print(Report)"
   ]
  },
  {
   "cell_type": "code",
   "execution_count": 48,
   "id": "09573b57",
   "metadata": {},
   "outputs": [],
   "source": [
    "cm = confusion_matrix(Y_test,y_pred_test)"
   ]
  },
  {
   "cell_type": "code",
   "execution_count": 49,
   "id": "291865ba",
   "metadata": {},
   "outputs": [
    {
     "data": {
      "text/plain": [
       "array([[4676,  269],\n",
       "       [ 568, 1000]], dtype=int64)"
      ]
     },
     "execution_count": 49,
     "metadata": {},
     "output_type": "execute_result"
    }
   ],
   "source": [
    "cm"
   ]
  },
  {
   "cell_type": "code",
   "execution_count": null,
   "id": "f6234881",
   "metadata": {},
   "outputs": [],
   "source": []
  }
 ],
 "metadata": {
  "kernelspec": {
   "display_name": "Python 3 (ipykernel)",
   "language": "python",
   "name": "python3"
  },
  "language_info": {
   "codemirror_mode": {
    "name": "ipython",
    "version": 3
   },
   "file_extension": ".py",
   "mimetype": "text/x-python",
   "name": "python",
   "nbconvert_exporter": "python",
   "pygments_lexer": "ipython3",
   "version": "3.9.12"
  }
 },
 "nbformat": 4,
 "nbformat_minor": 5
}
